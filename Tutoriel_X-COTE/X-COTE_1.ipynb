{
 "cells": [
  {
   "cell_type": "markdown",
   "metadata": {
    "id": "oInry-w3IHjW"
   },
   "source": [
    "# Comment extraire du contenu textuel de manière ciblée ?\n",
    "\n",
    "## Méthode simple et rapide (1) : Expressions régulières"
   ]
  },
  {
   "cell_type": "code",
   "execution_count": 1,
   "metadata": {
    "colab": {
     "base_uri": "https://localhost:8080/"
    },
    "id": "WJCs4nwNISNS",
    "outputId": "dce27c0b-19c4-49e4-eaef-24f7e55b44ab"
   },
   "outputs": [
    {
     "name": "stdout",
     "output_type": "stream",
     "text": [
      "<article><p>Paragraphe 1</p><p>Paragraphe 2</p></article>\n",
      "\n",
      "Paragraphe 1Paragraphe 2\n"
     ]
    }
   ],
   "source": [
    "import re\n",
    "\n",
    "doc = '<html><head/><body><article><p>Paragraphe 1</p><p>Paragraphe 2</p></article></body></html>'\n",
    "match = re.search(r'(?:<article>).+?(?:</article>)', doc)\n",
    "print(match.group(0))\n",
    "print()\n",
    "cleaned = re.sub(r'<.+?>', '', doc)\n",
    "print(cleaned)"
   ]
  },
  {
   "cell_type": "markdown",
   "metadata": {
    "id": "zFfKAF6JJLlQ"
   },
   "source": [
    "<font color='red'>→ Problème : normalisation des espaces.</font>\n",
    "\n",
    "## Méthode simple (2) : Élements de structure"
   ]
  },
  {
   "cell_type": "markdown",
   "metadata": {
    "id": "XShrF_WQJPqT"
   },
   "source": [
    "### Prérequis\n",
    "\n",
    "Parseur : [LXML](https://lxml.de/)\n",
    "\n",
    "Doit être installé si ce n'est pas déjà le cas : `pip install lxml`"
   ]
  },
  {
   "cell_type": "code",
   "execution_count": 2,
   "metadata": {
    "colab": {
     "base_uri": "https://localhost:8080/"
    },
    "id": "rXiPTqR9JPAw",
    "outputId": "79d5f2c4-9aa5-4cd4-d187-6350f79701b0"
   },
   "outputs": [
    {
     "name": "stdout",
     "output_type": "stream",
     "text": [
      "Requirement already satisfied: lxml in /home/adrien/.local/lib/python3.6/site-packages (4.6.3)\n"
     ]
    }
   ],
   "source": [
    "! pip install lxml --user"
   ]
  },
  {
   "cell_type": "code",
   "execution_count": 3,
   "metadata": {
    "colab": {
     "base_uri": "https://localhost:8080/"
    },
    "id": "rXiPTqR9JPAw",
    "outputId": "79d5f2c4-9aa5-4cd4-d187-6350f79701b0"
   },
   "outputs": [
    {
     "name": "stdout",
     "output_type": "stream",
     "text": [
      "Paragraphe 1\n",
      "Paragraphe 2\n"
     ]
    }
   ],
   "source": [
    "from lxml import html\n",
    "doc = '<html><head/><body><p>Paragraphe 1</p><p>Paragraphe 2</p></body></html>'\n",
    "parsed = html.fromstring(doc)\n",
    "for paragraph in parsed.iter('p'):\n",
    "    print(paragraph.text)"
   ]
  },
  {
   "cell_type": "markdown",
   "metadata": {
    "colab": {
     "base_uri": "https://localhost:8080/"
    },
    "id": "rXiPTqR9JPAw",
    "outputId": "79d5f2c4-9aa5-4cd4-d187-6350f79701b0"
   },
   "source": [
    "<font color='blue'>→ Approche plus \"propre\" que les expressions régulières, les étiquettes HTML permettent une approche plus fine.</font>\n",
    "\n",
    "### Texte orphelin et autres tags invisibles"
   ]
  },
  {
   "cell_type": "code",
   "execution_count": 4,
   "metadata": {
    "id": "lQGdHoVXMhoZ"
   },
   "outputs": [
    {
     "name": "stdout",
     "output_type": "stream",
     "text": [
      "Titre\n",
      "Paragraphe 1\n",
      "Paragraphe 2\n"
     ]
    }
   ],
   "source": [
    "doc = '<html><head/><body><h1>Titre</h1><p>Paragraphe 1</p>Texte orphelin<p>Paragraphe 2</p></body></html>'\n",
    "parsed = html.fromstring(doc)\n",
    "for paragraph in parsed.iter('h1', 'p'):\n",
    "    print(paragraph.text)"
   ]
  },
  {
   "cell_type": "markdown",
   "metadata": {},
   "source": [
    "<font color='red'>→ Résultat conforme mais problème : texte manquant (\"Texte orphelin\").</font>"
   ]
  },
  {
   "cell_type": "markdown",
   "metadata": {},
   "source": [
    "## Méthode déjà moins simple (3) : XPath\n",
    "\n",
    "### XPath : Titres et paragraphes"
   ]
  },
  {
   "cell_type": "code",
   "execution_count": 5,
   "metadata": {},
   "outputs": [
    {
     "name": "stdout",
     "output_type": "stream",
     "text": [
      "p - Rubriques et services du Figaro\n",
      "p - \n",
      "p - Rubriques et services du Figaro\n",
      "p - Nos journaux et magazines\n",
      "p - Les sites du Groupe Figaro\n",
      "h1 - Antarctique: manque criant de financements pour la recherche polaire française\n",
      "p - Alors que la réunion internationale de l'Antarctique se tient cette année à Paris, et malgré ses deux bases permanentes sur le continent blanc, la France consacre moins d'argent pour la science polaire que des pays comme la Pologne, la Corée du Sud ou l'Australie.\n",
      "p - «On est encore dans la cour des grands pour les résultats de recherche. Mais depuis 2005, les moyens financiers pour la recherche polaire sont rognés peu à peu. Ils sont tombés à moins de 20 millions d'euros par an. Cette enveloppe est indigne d'un grand pays comme la France », se désole Yvon Le Maho, président du conseil d'administration de l'IPEV (Institut Polaire français Paul-Émile Victor), biologiste de réputation internationale et membre de l'Académie des sciences.\n",
      "p - Pour l'instant, la France dispose d'un budget annuel total de 18 millions d'euros pour sa présence permanente en Arctique et en Antarctique, ses investissements, les salaires, la logistique qui a permis d'accueillir au total 320 chercheurs sur le terrain en 2019, et maintenir 40 refuges pour des expéditions scientifiques. C'est moins que la Pologne qui a obtenu un budget de 21 millions d'euros pour reconstruire une station, et bien moins que l'Allemagne (53 millions d'euros), l'Australie (88 millions) ou «la Corée du\n",
      "p - \n",
      "        Cet article est réservé aux abonnés.        Il vous reste 77% à découvrir.\n",
      "    \n"
     ]
    }
   ],
   "source": [
    "from lxml import html\n",
    "\n",
    "# lecture d'un fichier HTML\n",
    "fichier = 'fichiers/antarctique-manque-criant-de-financements-pour-la-recherche-polaire-francaise-20210614.html'\n",
    "with open(fichier, encoding='utf-8') as f:\n",
    "    document = f.read()\n",
    "# chargement dans LXML\n",
    "arbre = html.fromstring(document)\n",
    "# XPath\n",
    "i = 0\n",
    "for element in arbre.xpath('//h1|//p'):\n",
    "    print(element.tag, '-', element.text_content())\n",
    "    i += 1\n",
    "    if i == 10:\n",
    "        break"
   ]
  },
  {
   "cell_type": "markdown",
   "metadata": {},
   "source": [
    "<font color='orange'>→ Les éléments choisis ciblent plus efficacement le contenu mais ce n'est pas parfait.</font>\n",
    "\n",
    "### XPath : Article"
   ]
  },
  {
   "cell_type": "code",
   "execution_count": 6,
   "metadata": {},
   "outputs": [
    {
     "name": "stdout",
     "output_type": "stream",
     "text": [
      "    \n",
      "        Réservé aux abonnés\n",
      "    \n",
      "Antarctique: manque criant de financements pour la recherche polaire française\n",
      "Alors que la réunion internationale de l'Antarctique se tient cette année à Paris, et malgré ses deux bases permanentes sur le continent blanc, la France consacre moins d'argent pour la science polaire que des pays comme la Pologne, la Corée du Sud ou l'Australie.\n",
      "\n",
      "                Par Marc Cherki\n",
      "                Publié \n",
      "                    hier à 17:45, Mis à jour hier à 18:35\n",
      "   \n"
     ]
    }
   ],
   "source": [
    "for element in arbre.xpath('//article'):\n",
    "    print(element.text_content()[:500])\n",
    "    i += 1\n",
    "    if i == 1:\n",
    "        break"
   ]
  },
  {
   "cell_type": "markdown",
   "metadata": {},
   "source": [
    "<font color='blue'>→ Article trouvé mais la mise en forme peut poser problème, par exemple les espaces avant \"Réservé aux abonnés\".</font>\n",
    "\n",
    "### XPath : Article + Trimming"
   ]
  },
  {
   "cell_type": "code",
   "execution_count": 7,
   "metadata": {},
   "outputs": [
    {
     "name": "stdout",
     "output_type": "stream",
     "text": [
      "Réservé aux abonnés\n",
      "Antarctique: manque criant de financements pour la recherche polaire française\n",
      "Alors que la réunion internationale de l'Antarctique se tient cette année à Paris, et malgré ses deux bases permanentes sur le continent blanc, la France consacre moins d'argent pour la science polaire que des pays comme la Pologne, la Corée du Sud ou l'Australie.\n",
      "ParMarc Cherki\n",
      "Publié\n",
      "hier à 17:45, Mis à jour hier à 18:35\n",
      "La base française de Dumont d'Urville, en Antarctique, attend depuis 2005 sa rénovation (photo prise le 15 février 2021). Crédits photo. Alamy/ABACA\n",
      "«On est encore dans la cour des grands pour les résultats de recherche. Mais depuis 2005, les moyens financiers pour la recherche polaire sont rognés peu à peu. Ils sont tombés à moins de 20 millions d'euros par an. Cette enveloppe est indigne d'un grand pays comme la France», se désole Yvon Le Maho, président du conseil d'administration de l'IPEV (Institut Polaire français Paul-Émile Victor), biologiste de réputation internationale et membre de l'Académie des sciences.\n",
      "À découvrirCovid-19: la vaccination pour seul remède\n",
      "Pour l'instant, la France dispose d'un budget annuel total de 18 millions d'euros pour sa présence permanente en Arctique et en Antarctique, ses investissements, les salaires, la logistique qui a permis d'accueillir au total 320 chercheurs sur le terrain en 2019, et maintenir 40 refuges pour des expéditions scientifiques. C'est moins que la Pologne qui a obtenu un budget de 21 millions d'euros pour reconstruire une station, et bien moins que l'Allemagne (53 millions d'euros), l'Australie (88 millions) ou «la Corée du\n",
      "Cet article est réservé aux abonnés. Il vous reste 77% à découvrir.\n",
      "Repousser les limites de la science, c’est aussi ça la liberté.\n",
      "Continuez à lire votre article pour 1€ le premier mois\n",
      "J'EN PROFITE\n",
      "Déjà abonné?\n",
      "Connectez-vous\n"
     ]
    }
   ],
   "source": [
    "# trafilatura doit être installé et à jour\n",
    "# ! pip install --user -U trafilatura\n",
    "from trafilatura.utils import sanitize\n",
    "\n",
    "element = arbre.xpath('//article')[0]\n",
    "print(sanitize(element.text_content()))"
   ]
  },
  {
   "cell_type": "markdown",
   "metadata": {},
   "source": [
    "<font color='blue'>→ Article trouvé et nettoyé (éléments de structure perdus au passage).</font>\n",
    "\n",
    "### XPath : Article + Détourage par attributs (→ premium)"
   ]
  },
  {
   "cell_type": "code",
   "execution_count": 8,
   "metadata": {},
   "outputs": [
    {
     "name": "stdout",
     "output_type": "stream",
     "text": [
      "0\n"
     ]
    }
   ],
   "source": [
    "from copy import copy\n",
    "\n",
    "# il faut copier l'objet sans quoi les modifications se répercutent sur l'original\n",
    "arbre_test = copy(arbre)\n",
    "\n",
    "for element in arbre_test.xpath('//*[contains(@class, \"premium\")]'):\n",
    "    element.getparent().remove(element)\n",
    "\n",
    "print(len(arbre_test.xpath('//article')))"
   ]
  },
  {
   "cell_type": "markdown",
   "metadata": {},
   "source": [
    "<font color='red'>→ Arbre vide... Trop de texte enlevé !</font>\n",
    "\n",
    "### XPath : Article + Détourage des divs premium"
   ]
  },
  {
   "cell_type": "code",
   "execution_count": 9,
   "metadata": {},
   "outputs": [
    {
     "name": "stdout",
     "output_type": "stream",
     "text": [
      "Antarctique: manque criant de financements pour la recherche polaire française\n",
      "Alors que la réunion internationale de l'Antarctique se tient cette année à Paris, et malgré ses deux bases permanentes sur le continent blanc, la France consacre moins d'argent pour la science polaire que des pays comme la Pologne, la Corée du Sud ou l'Australie.\n",
      "ParMarc Cherki\n",
      "Publié\n",
      "hier à 17:45, Mis à jour hier à 18:35\n",
      "La base française de Dumont d'Urville, en Antarctique, attend depuis 2005 sa rénovation (photo prise le 15 février 2021). Crédits photo. Alamy/ABACA\n",
      "«On est encore dans la cour des grands pour les résultats de recherche. Mais depuis 2005, les moyens financiers pour la recherche polaire sont rognés peu à peu. Ils sont tombés à moins de 20 millions d'euros par an. Cette enveloppe est indigne d'un grand pays comme la France», se désole Yvon Le Maho, président du conseil d'administration de l'IPEV (Institut Polaire français Paul-Émile Victor), biologiste de réputation internationale et membre de l'Académie des sciences.\n",
      "À découvrirCovid-19: la vaccination pour seul remède\n",
      "Pour l'instant, la France dispose d'un budget annuel total de 18 millions d'euros pour sa présence permanente en Arctique et en Antarctique, ses investissements, les salaires, la logistique qui a permis d'accueillir au total 320 chercheurs sur le terrain en 2019, et maintenir 40 refuges pour des expéditions scientifiques. C'est moins que la Pologne qui a obtenu un budget de 21 millions d'euros pour reconstruire une station, et bien moins que l'Allemagne (53 millions d'euros), l'Australie (88 millions) ou «la Corée du\n"
     ]
    }
   ],
   "source": [
    "arbre_test = copy(arbre)\n",
    "\n",
    "for element in arbre_test.xpath('//div[contains(@class, \"premium\")]'):\n",
    "    element.getparent().remove(element)\n",
    "\n",
    "element = arbre_test.xpath('//article')[0]\n",
    "print(sanitize(element.text_content()))"
   ]
  },
  {
   "cell_type": "markdown",
   "metadata": {},
   "source": [
    "<font color='green'>→ Résultat déjà bien plus probant !</font>\n",
    "\n",
    "*Souci annexe mais pas futile : l'article est payant...*\n",
    "\n",
    "### Test sur une autre source"
   ]
  },
  {
   "cell_type": "code",
   "execution_count": 10,
   "metadata": {},
   "outputs": [
    {
     "name": "stdout",
     "output_type": "stream",
     "text": [
      "        Tribune. Le traité sur l’Antarctique (RCTA), entré en vigueur en 1961, est un outil juridique exceptionnel et unique en son genre. Au plus fort de la guerre froide, douze pays ont été capables de surmonter leurs divergences pour parvenir à une solution conjointe qui préserve les intérêts de tous et en premier lieu ceux de la planète : en gelant les revendications et contestations territoriales, en interdisant les activités autres que pacifiques en Antarctique et en y garantissant la liberté de recherche scientifique et la coopération à cette fin.          Il en va de l’intérêt de toute l’humanité que l’Antarctique, dont nous avons la responsabilité collective, reste pour toujours réservé aux seules activités pacifiques et ne devienne jamais le terrain de différends internationaux. Bien que l’Antarctique soit sanctuarisé, il est aujourd’hui impératif de rehausser son niveau de protection et de l’étendre aux espaces océaniques pour faire face aux bouleversements climatiques majeurs et aux pressions exercées sur la biodiversité.                       Article réservé à nos abonnés  Lire aussi  De Jean-Louis Etienne à Swings : la quête des mystères de l’océan Austral, crucial dans la régulation du climat                Car l’océan Austral qui borde l’Antarctique constitue une richesse écologique hors du commun et joue un rôle-clé pour le climat : il contribue à près de 75 % à l’absorption globale de chaleur excédentaire et à 35 % à la séquestration du CO2 capté par l’océan mondial. Principal accumulateur de chaleur et puits de carbone, il joue aussi un rôle important dans la production d’oxygène.          Poursuivre l’esprit de 1961          Sa protection s’avère donc être un maillon-clé dans la lutte contre l’impact du changement climatique et la préservation de la biodiversité. Avec plus de 9 000 espèces marines répertoriées à ce jour, sa biodiversité est exceptionnellement riche. Le krill constitue une espèce essentielle de la chaîne alimentaire et des équilibres biologiques. Il forme une biomasse vitale dans cette zone océanique, qui approvisionne en nutriments l’océan mondial.                       Article réservé à nos abonnés  Lire aussi  Le réchauffement climatique va accélérer la naissance d’icebergs                Notre responsabilité est aujourd’hui d’établir un réseau d’aires marines protégées (AMP). Dès 2010, la France avec l’Union européenne (UE) et d’autres pays ont proposé d’y créer une nouvelle AMP portant sur presque un million de kilomètres carrés dans la zone Antarctique orientale. Des négociations ont été ouvertes et ont fait l’objet de blocages depuis 2017. Elles doivent aboutir à une décision en octobre 2021 dans le cadre de la Convention pour la conservation de la faune et la flore marine de l’Antarctique (CCAMLR).          A la veille de l’ouverture de la 43e Réunion consultative du traité sur l’Antarctique et des rendez-vous internationaux de 2021 dédiés à la protection de la biodiversité (COP15) et du climat (COP26), l’Antarctique doit être le symbole de notre engagement commun dans la lutte contre la crise environnementale. C’est l’esprit même du traité entré en vigueur en 1961 – alors même que le contexte s’y prêtait pourtant bien peu et que la guerre froide battait son plein – qui doit permettre de dépasser ces blocages sur les AMP et guider le consensus international.        Il vous reste 45.29% de cet article à lire. La suite est réservée aux abonnés.    \n"
     ]
    }
   ],
   "source": [
    "# lecture d'un autre fichier HTML\n",
    "fichier = 'fichiers2/lemonde-antarctique.html'\n",
    "with open(fichier, encoding='utf-8') as f:\n",
    "    document = f.read()\n",
    "# chargement dans LXML\n",
    "arbre = html.fromstring(document)\n",
    "\n",
    "for element in arbre.xpath('//div[contains(@class, \"premium\")]'):\n",
    "    element.getparent().remove(element)\n",
    "\n",
    "element = arbre.xpath('//article')[0]\n",
    "# cette fois pas de nettoyage à titre d'exemple\n",
    "print(element.text_content())"
   ]
  },
  {
   "cell_type": "markdown",
   "metadata": {},
   "source": [
    "<font color=\"orange\">→ Les informations obtenues ne sont ni identiques (pas de chapeau) ni parfaitement adéquates (inserts \"Lire aussi\").</font>"
   ]
  },
  {
   "cell_type": "markdown",
   "metadata": {},
   "source": [
    "## Conclusions\n",
    "\n",
    "- Le détourage au cas par cas est possible mais délicat !\n",
    "- La complexité et la variabilité des documents HTML pose problème :\n",
    "   - Extraire du texte oui mais quoi ? Quelles sections du document ?\n",
    "   - Quelles étapes de post-processing ? (nettoyage et normalisation)\n",
    "- Un outil générique permet de gagner du temps, avec une perte en terme de précision ou de rappel qu'il convient d'observer."
   ]
  }
 ],
 "metadata": {
  "colab": {
   "collapsed_sections": [],
   "name": "X-COTE_1 (le bon).ipynb",
   "provenance": []
  },
  "kernelspec": {
   "display_name": "Python 3",
   "language": "python",
   "name": "python3"
  },
  "language_info": {
   "codemirror_mode": {
    "name": "ipython",
    "version": 3
   },
   "file_extension": ".py",
   "mimetype": "text/x-python",
   "name": "python",
   "nbconvert_exporter": "python",
   "pygments_lexer": "ipython3",
   "version": "3.6.9"
  }
 },
 "nbformat": 4,
 "nbformat_minor": 4
}
