{
 "cells": [
  {
   "cell_type": "markdown",
   "id": "59249398-24e8-4339-a6ad-1c0ef69fb25e",
   "metadata": {},
   "source": [
    "**Librairie Trafilatura**\n",
    "\n",
    "1. Installation: `pip install trafilatura`"
   ]
  },
  {
   "cell_type": "markdown",
   "id": "8505f5ea-b7dd-455e-94a2-0950ee5ebdc5",
   "metadata": {},
   "source": [
    "2. Téléchargement"
   ]
  },
  {
   "cell_type": "code",
   "execution_count": 1,
   "id": "8998cb12-efd0-4822-b214-77a94c79aead",
   "metadata": {},
   "outputs": [],
   "source": [
    "from trafilatura import fetch_url\n",
    "\n",
    "document = fetch_url('https://www.example.org')"
   ]
  },
  {
   "cell_type": "markdown",
   "id": "64f173b8-0778-4126-912e-f788b622ddb2",
   "metadata": {},
   "source": [
    "Pour des questions liées aux téléchargements en série et à l'efficacité voir la [documentation en ligne](https://trafilatura.readthedocs.io/)."
   ]
  },
  {
   "cell_type": "markdown",
   "id": "d5186981-567b-4720-8a53-a7a456ace98b",
   "metadata": {},
   "source": [
    "3. Extraction"
   ]
  },
  {
   "cell_type": "code",
   "execution_count": 2,
   "id": "a127cca1-7bd6-41dc-851b-3920b6372e84",
   "metadata": {},
   "outputs": [
    {
     "name": "stdout",
     "output_type": "stream",
     "text": [
      "This domain is for use in illustrative examples in documents. You may use this domain in literature without prior coordination or asking for permission.\n",
      "More information...\n"
     ]
    }
   ],
   "source": [
    "from trafilatura import extract\n",
    "\n",
    "texte = extract(document)\n",
    "print(texte)"
   ]
  },
  {
   "cell_type": "markdown",
   "id": "53309bee-cf37-4182-b0e9-1b5c40439a8b",
   "metadata": {},
   "source": [
    "Différents formats en sortie:"
   ]
  },
  {
   "cell_type": "code",
   "execution_count": 3,
   "id": "69f9c7c8-1cb8-43d7-9ef9-b304d7f60f3f",
   "metadata": {},
   "outputs": [
    {
     "name": "stdout",
     "output_type": "stream",
     "text": [
      "<doc title=\"Example Domain\" categories=\"\" tags=\"\" fingerprint=\"FYMpE8PW9rnzogCzwvwGlIXzkHw=\">\n",
      "  <main>\n",
      "    <p>This domain is for use in illustrative examples in documents. You may use this domain in literature without prior coordination or asking for permission.</p>\n",
      "    <p>More information...</p>\n",
      "  </main>\n",
      "  <comments/>\n",
      "</doc>\n"
     ]
    }
   ],
   "source": [
    "texte_xml = extract(document, output_format='xml')\n",
    "print(texte_xml)"
   ]
  },
  {
   "cell_type": "markdown",
   "id": "f7eb251d-97aa-42f2-b18e-a7b820c0d56b",
   "metadata": {},
   "source": [
    "Documentation des fonctions:\n",
    "\n",
    "- [extract](https://trafilatura.readthedocs.io/en/latest/corefunctions.html#trafilatura.extract)\n",
    "- [bare_extraction](https://trafilatura.readthedocs.io/en/latest/corefunctions.html#trafilatura.bare_extraction)\n",
    "- [baseline](https://trafilatura.readthedocs.io/en/latest/corefunctions.html#trafilatura.baseline)"
   ]
  },
  {
   "cell_type": "markdown",
   "id": "09f30bc4-29c9-49bc-85ca-cec93ffc34ce",
   "metadata": {},
   "source": [
    "Ouverture et lecture de fichiers"
   ]
  },
  {
   "cell_type": "code",
   "execution_count": 4,
   "id": "9f3ecad5-3fe5-409e-870c-99f0970aafb9",
   "metadata": {},
   "outputs": [],
   "source": [
    "fichier = 'toto/antarctique-manque-criant-de-financements-pour-la-recherche-polaire-francaise-20210614.html'\n",
    "with open(fichier, encoding='utf-8') as f:\n",
    "    document = f.read()"
   ]
  },
  {
   "cell_type": "code",
   "execution_count": 5,
   "id": "0dd58fe3-85a2-4c68-9dbc-b5c250317475",
   "metadata": {},
   "outputs": [
    {
     "name": "stdout",
     "output_type": "stream",
     "text": [
      "(<Element body at 0x7f934b860188>, \"\\\\u00abOn est encore dans la cour des grands pour les r\\\\u00e9sultats de recherche. Mais depuis 2005, les moyens financiers pour la recherche polaire sont rogn\\\\u00e9s peu \\\\u00e0 peu. Ils sont tomb\\\\u00e9s \\\\u00e0 moins de 20 millions d'euros par an. Cette enveloppe est indigne d'un grand pays comme la France\\\\u200a\\\\u00bb, se d\\\\u00e9sole Yvon Le Maho, pr\\\\u00e9sident du conseil d'administration de l'IPEV (Institut Polaire fran\\\\u00e7ais Paul-\\\\u00c9mile Victor), biologiste de r\\\\u00e9putation internationale et membre de l'Acad\\\\u00e9mie des sciences.Pour l'instant, la France dispose d'un budget annuel total de 18 millions d'euros pour sa pr\\\\u00e9sence permanente en Arctique et en Antarctique, ses investissements, les salaires, la logistique qui a permis d'accueillir ...\", 769)\n"
     ]
    }
   ],
   "source": [
    "from trafilatura import baseline\n",
    "\n",
    "texte = baseline(document)\n",
    "print(texte)"
   ]
  },
  {
   "cell_type": "code",
   "execution_count": 7,
   "id": "3849cc24-1628-4a9a-8a20-1017a038a99b",
   "metadata": {},
   "outputs": [
    {
     "name": "stdout",
     "output_type": "stream",
     "text": [
      "Antarctique: manque criant de financements pour la recherche polaire française\n",
      "Alors que la réunion internationale de l'Antarctique se tient cette année à Paris, et malgré ses deux bases permanentes sur le continent blanc, la France consacre moins d'argent pour la science polaire que des pays comme la Pologne, la Corée du Sud ou l'Australie.\n",
      "«On est encore dans la cour des grands pour les résultats de recherche. Mais depuis 2005, les moyens financiers pour la recherche polaire sont rognés peu à peu. Ils sont tombés à moins de 20 millions d'euros par an. Cette enveloppe est indigne d'un grand pays comme la France », se désole Yvon Le Maho, président du conseil d'administration de l'IPEV (Institut Polaire français Paul-Émile Victor), biologiste de réputation internationale et membre de l'Académie des sciences.\n",
      "Pour l'instant, la France dispose d'un budget annuel total de 18 millions d'euros pour sa présence permanente en Arctique et en Antarctique, ses investissements, les salaires, la logistique qui a permis d'accueillir au total 320 chercheurs sur le terrain en 2019, et maintenir 40 refuges pour des expéditions scientifiques.\n",
      "C'est moins que la Pologne qui a obtenu un budget de 21 millions d'euros pour reconstruire une station, et bien moins que l'Allemagne (53 millions d'euros), l'Australie (88 millions) ou «la Corée du\n",
      "Cet article est réservé aux abonnés. Il vous reste 77% à découvrir.\n",
      "Repousser les limites de la science, c’est aussi ça la liberté.\n",
      "Continuez à lire votre article pour 1€ le premier mois\n",
      "Déjà abonné ? Connectez-vous\n"
     ]
    }
   ],
   "source": [
    "texte = extract(document, include_comments=False)\n",
    "print(texte)"
   ]
  },
  {
   "cell_type": "code",
   "execution_count": null,
   "id": "5a0e176e-b955-458c-a3f5-c8b714f3720b",
   "metadata": {},
   "outputs": [],
   "source": []
  },
  {
   "cell_type": "code",
   "execution_count": null,
   "id": "fef39914-7b07-4c5f-8cf9-beb652881a54",
   "metadata": {},
   "outputs": [],
   "source": []
  }
 ],
 "metadata": {
  "kernelspec": {
   "display_name": "Python 3",
   "language": "python",
   "name": "python3"
  },
  "language_info": {
   "codemirror_mode": {
    "name": "ipython",
    "version": 3
   },
   "file_extension": ".py",
   "mimetype": "text/x-python",
   "name": "python",
   "nbconvert_exporter": "python",
   "pygments_lexer": "ipython3",
   "version": "3.6.9"
  },
  "toc-autonumbering": false,
  "toc-showmarkdowntxt": false
 },
 "nbformat": 4,
 "nbformat_minor": 5
}
