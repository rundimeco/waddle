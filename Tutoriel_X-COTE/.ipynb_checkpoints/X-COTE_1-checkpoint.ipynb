{
 "cells": [
  {
   "cell_type": "markdown",
   "metadata": {
    "id": "oInry-w3IHjW"
   },
   "source": [
    "**Extraction du contenu de manière simple 1 : expressions régulières**"
   ]
  },
  {
   "cell_type": "code",
   "execution_count": 1,
   "metadata": {
    "colab": {
     "base_uri": "https://localhost:8080/"
    },
    "id": "WJCs4nwNISNS",
    "outputId": "dce27c0b-19c4-49e4-eaef-24f7e55b44ab"
   },
   "outputs": [
    {
     "name": "stdout",
     "output_type": "stream",
     "text": [
      "<article><p>Paragraphe 1</p><p>Paragraphe 2</p></article>\n",
      "Paragraphe 1Paragraphe 2\n"
     ]
    }
   ],
   "source": [
    "import re\n",
    "\n",
    "doc = '<html><head/><body><article><p>Paragraphe 1</p><p>Paragraphe 2</p></article></body></html>'\n",
    "match = re.search(r'(?:<article>).+?(?:</article>)', doc)\n",
    "print(match.group(0))\n",
    "cleaned = re.sub(r'<.+?>', '', doc)\n",
    "print(cleaned)"
   ]
  },
  {
   "cell_type": "markdown",
   "metadata": {
    "id": "zFfKAF6JJLlQ"
   },
   "source": [
    "**Extraction du contenu de manière simple 2 : X-Path**"
   ]
  },
  {
   "cell_type": "markdown",
   "metadata": {
    "id": "XShrF_WQJPqT"
   },
   "source": [
    "Parseur : [LXML](https://lxml.de/) (doit être installé si ce n'est pas déjà le cas)"
   ]
  },
  {
   "cell_type": "code",
   "execution_count": 2,
   "metadata": {
    "colab": {
     "base_uri": "https://localhost:8080/"
    },
    "id": "rXiPTqR9JPAw",
    "outputId": "79d5f2c4-9aa5-4cd4-d187-6350f79701b0"
   },
   "outputs": [],
   "source": [
    "from lxml import html"
   ]
  },
  {
   "cell_type": "code",
   "execution_count": 3,
   "metadata": {
    "colab": {
     "base_uri": "https://localhost:8080/"
    },
    "id": "rXiPTqR9JPAw",
    "outputId": "79d5f2c4-9aa5-4cd4-d187-6350f79701b0"
   },
   "outputs": [
    {
     "name": "stdout",
     "output_type": "stream",
     "text": [
      "Paragraphe 1\n",
      "Paragraphe 2\n"
     ]
    }
   ],
   "source": [
    "doc = '<html><head/><body><p>Paragraphe 1</p><p>Paragraphe 2</p></body></html>'\n",
    "parsed = html.fromstring(doc)\n",
    "for paragraph in parsed.iter('p'):\n",
    "    print(paragraph.text)"
   ]
  },
  {
   "cell_type": "markdown",
   "metadata": {
    "colab": {
     "base_uri": "https://localhost:8080/"
    },
    "id": "rXiPTqR9JPAw",
    "outputId": "79d5f2c4-9aa5-4cd4-d187-6350f79701b0"
   },
   "source": [
    "Texte orphelin et autres tags invisibles:"
   ]
  },
  {
   "cell_type": "code",
   "execution_count": 4,
   "metadata": {
    "id": "lQGdHoVXMhoZ"
   },
   "outputs": [
    {
     "name": "stdout",
     "output_type": "stream",
     "text": [
      "Paragraphe 1\n",
      "Paragraphe 2\n"
     ]
    }
   ],
   "source": [
    "doc = '<html><head/><body><h1>Titre</h1><p>Paragraphe 1</p>Texte orphelin<p>Paragraphe 2</p></body></html>'\n",
    "parsed = html.fromstring(doc)\n",
    "for paragraph in parsed.iter('p'):\n",
    "    print(paragraph.text)"
   ]
  },
  {
   "cell_type": "code",
   "execution_count": null,
   "metadata": {},
   "outputs": [],
   "source": []
  }
 ],
 "metadata": {
  "colab": {
   "collapsed_sections": [],
   "name": "X-COTE_1 (le bon).ipynb",
   "provenance": []
  },
  "kernelspec": {
   "display_name": "Python 3",
   "language": "python",
   "name": "python3"
  },
  "language_info": {
   "codemirror_mode": {
    "name": "ipython",
    "version": 3
   },
   "file_extension": ".py",
   "mimetype": "text/x-python",
   "name": "python",
   "nbconvert_exporter": "python",
   "pygments_lexer": "ipython3",
   "version": "3.6.9"
  }
 },
 "nbformat": 4,
 "nbformat_minor": 4
}
