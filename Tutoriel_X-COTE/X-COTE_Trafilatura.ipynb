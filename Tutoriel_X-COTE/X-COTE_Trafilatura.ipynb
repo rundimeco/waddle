{
 "cells": [
  {
   "cell_type": "markdown",
   "id": "59249398-24e8-4339-a6ad-1c0ef69fb25e",
   "metadata": {},
   "source": [
    "# Extraction de textes avec Trafilatura\n",
    "\n",
    "## 1. Installation\n",
    "\n",
    "`pip install trafilatura`\n",
    "\n",
    "Mise à jour:\n",
    "\n",
    "`pip install -U trafilatura`\n",
    "\n",
    "**Pour plus d'informations cf rubrique [Installation](https://trafilatura.readthedocs.io/en/latest/installation.html).**"
   ]
  },
  {
   "cell_type": "markdown",
   "id": "8505f5ea-b7dd-455e-94a2-0950ee5ebdc5",
   "metadata": {},
   "source": [
    "## 2. Téléchargement"
   ]
  },
  {
   "cell_type": "code",
   "execution_count": 1,
   "id": "8998cb12-efd0-4822-b214-77a94c79aead",
   "metadata": {},
   "outputs": [],
   "source": [
    "from trafilatura import fetch_url\n",
    "\n",
    "document = fetch_url('https://www.example.org')"
   ]
  },
  {
   "cell_type": "markdown",
   "id": "64f173b8-0778-4126-912e-f788b622ddb2",
   "metadata": {},
   "source": [
    "Pour des questions liées aux téléchargements en série et à l'efficacité voir la [documentation en ligne](https://trafilatura.readthedocs.io/)."
   ]
  },
  {
   "cell_type": "markdown",
   "id": "d5186981-567b-4720-8a53-a7a456ace98b",
   "metadata": {},
   "source": [
    "## 3. Fonction \"extract\""
   ]
  },
  {
   "cell_type": "code",
   "execution_count": 2,
   "id": "a127cca1-7bd6-41dc-851b-3920b6372e84",
   "metadata": {},
   "outputs": [
    {
     "name": "stdout",
     "output_type": "stream",
     "text": [
      "This domain is for use in illustrative examples in documents. You may use this domain in literature without prior coordination or asking for permission.\n",
      "More information...\n"
     ]
    }
   ],
   "source": [
    "from trafilatura import extract\n",
    "\n",
    "texte = extract(document)\n",
    "print(texte)"
   ]
  },
  {
   "cell_type": "markdown",
   "id": "53309bee-cf37-4182-b0e9-1b5c40439a8b",
   "metadata": {},
   "source": [
    "### Différents formats en sortie:"
   ]
  },
  {
   "cell_type": "code",
   "execution_count": 3,
   "id": "69f9c7c8-1cb8-43d7-9ef9-b304d7f60f3f",
   "metadata": {},
   "outputs": [
    {
     "name": "stdout",
     "output_type": "stream",
     "text": [
      "<doc title=\"Example Domain\" categories=\"\" tags=\"\" fingerprint=\"FYMpE8PW9rnzogCzwvwGlIXzkHw=\">\n",
      "  <main>\n",
      "    <p>This domain is for use in illustrative examples in documents. You may use this domain in literature without prior coordination or asking for permission.</p>\n",
      "    <p>More information...</p>\n",
      "  </main>\n",
      "  <comments/>\n",
      "</doc>\n"
     ]
    }
   ],
   "source": [
    "texte_xml = extract(document, output_format='xml')\n",
    "print(texte_xml)"
   ]
  },
  {
   "cell_type": "markdown",
   "id": "f7eb251d-97aa-42f2-b18e-a7b820c0d56b",
   "metadata": {},
   "source": [
    "## Autres fonctions utiles\n",
    "\n",
    "Documentation des fonctions:\n",
    "\n",
    "- [extract](https://trafilatura.readthedocs.io/en/latest/corefunctions.html#trafilatura.extract)\n",
    "- [bare_extraction](https://trafilatura.readthedocs.io/en/latest/corefunctions.html#trafilatura.bare_extraction)\n",
    "- [baseline](https://trafilatura.readthedocs.io/en/latest/corefunctions.html#trafilatura.baseline)\n",
    "- [extract_metadata](https://trafilatura.readthedocs.io/en/latest/corefunctions.html#trafilatura.extract_metadata)"
   ]
  },
  {
   "cell_type": "markdown",
   "id": "09f30bc4-29c9-49bc-85ca-cec93ffc34ce",
   "metadata": {},
   "source": [
    "### Ouverture et lecture de fichiers\n",
    "\n",
    "#### Lecture de chaîne de caractères (Unicode)"
   ]
  },
  {
   "cell_type": "code",
   "execution_count": 4,
   "id": "9f3ecad5-3fe5-409e-870c-99f0970aafb9",
   "metadata": {},
   "outputs": [],
   "source": [
    "fichier = 'toto/antarctique-manque-criant-de-financements-pour-la-recherche-polaire-francaise-20210614.html'\n",
    "with open(fichier, encoding='utf-8') as f:\n",
    "    document = f.read()\n",
    "# extract(document)"
   ]
  },
  {
   "cell_type": "markdown",
   "id": "ed69754e-5e3d-4d16-a254-0d68fc2e469d",
   "metadata": {},
   "source": [
    "#### Lecture d'arbres parsés par LXML"
   ]
  },
  {
   "cell_type": "code",
   "execution_count": 5,
   "id": "8818602a-2a2f-4fdb-8e47-f0bd8d560bfb",
   "metadata": {},
   "outputs": [],
   "source": [
    "from lxml import html\n",
    "\n",
    "arbre = html.fromstring(document)\n",
    "#extract(arbre)"
   ]
  },
  {
   "cell_type": "markdown",
   "id": "c558b83a-79be-481b-a5cb-ffada86444c7",
   "metadata": {},
   "source": [
    "### Comparaison de la sortie de la baseline et de l'outil complet"
   ]
  },
  {
   "cell_type": "code",
   "execution_count": 6,
   "id": "432fa488-bcc9-42d6-9afe-59cb28427ad4",
   "metadata": {},
   "outputs": [
    {
     "name": "stdout",
     "output_type": "stream",
     "text": [
      "\\u00abOn est encore dans la cour des grands pour les r\\u00e9sultats de recherche. Mais depuis 2005, les moyens financiers pour la recherche polaire sont rogn\\u00e9s peu \\u00e0 peu. Ils sont tomb\\u00e9s \\u00e0 moins de 20 millions d'euros par an. Cette enveloppe est indigne d'un grand pays comme la France\\u200a\\u00bb, se d\\u00e9sole Yvon Le Maho, pr\\u00e9sident du conseil d'administration de l'IPEV (Institut Polaire fran\\u00e7ais Paul-\\u00c9mile Victor), biologiste de r\\u00e9putation internationale et membre de l'Acad\\u00e9mie des sciences.Pour l'instant, la France dispose d'un budget annuel total de 18 millions d'euros pour sa pr\\u00e9sence permanente en Arctique et en Antarctique, ses investissements, les salaires, la logistique qui a permis d'accueillir ...\n"
     ]
    }
   ],
   "source": [
    "from trafilatura import baseline\n",
    "\n",
    "objet_lxml, texte, longueur = baseline(document)\n",
    "print(texte)"
   ]
  },
  {
   "cell_type": "code",
   "execution_count": 7,
   "id": "3849cc24-1628-4a9a-8a20-1017a038a99b",
   "metadata": {},
   "outputs": [
    {
     "name": "stdout",
     "output_type": "stream",
     "text": [
      "Antarctique: manque criant de financements pour la recherche polaire française\n",
      "Alors que la réunion internationale de l'Antarctique se tient cette année à Paris, et malgré ses deux bases permanentes sur le continent blanc, la France consacre moins d'argent pour la science polaire que des pays comme la Pologne, la Corée du Sud ou l'Australie.\n",
      "«On est encore dans la cour des grands pour les résultats de recherche. Mais depuis 2005, les moyens financiers pour la recherche polaire sont rognés peu à peu. Ils sont tombés à moins de 20 millions d'euros par an. Cette enveloppe est indigne d'un grand pays comme la France », se désole Yvon Le Maho, président du conseil d'administration de l'IPEV (Institut Polaire français Paul-Émile Victor), biologiste de réputation internationale et membre de l'Académie des sciences.\n",
      "Pour l'instant, la France dispose d'un budget annuel total de 18 millions d'euros pour sa présence permanente en Arctique et en Antarctique, ses investissements, les salaires, la logistique qui a permis d'accueillir au total 320 chercheurs sur le terrain en 2019, et maintenir 40 refuges pour des expéditions scientifiques.\n",
      "C'est moins que la Pologne qui a obtenu un budget de 21 millions d'euros pour reconstruire une station, et bien moins que l'Allemagne (53 millions d'euros), l'Australie (88 millions) ou «la Corée du\n",
      "Cet article est réservé aux abonnés. Il vous reste 77% à découvrir.\n",
      "Repousser les limites de la science, c’est aussi ça la liberté.\n",
      "Continuez à lire votre article pour 1€ le premier mois\n",
      "Déjà abonné ? Connectez-vous\n",
      "Il n'y a actuellement aucun commentaire concernant cet article.\n",
      "Soyez le premier à donner votre avis !\n"
     ]
    }
   ],
   "source": [
    "texte = extract(document)\n",
    "print(texte)"
   ]
  },
  {
   "cell_type": "markdown",
   "id": "ecc6a5b7-ca81-4c79-bcbe-678547d73d83",
   "metadata": {},
   "source": [
    "### bare_extraction() "
   ]
  },
  {
   "cell_type": "code",
   "execution_count": 8,
   "id": "1b5538b3-14f7-4a4e-bdbc-fee2a991d323",
   "metadata": {},
   "outputs": [
    {
     "name": "stdout",
     "output_type": "stream",
     "text": [
      "dict_keys(['title', 'author', 'url', 'hostname', 'description', 'sitename', 'date', 'categories', 'tags', 'fingerprint', 'id', 'license', 'text', 'comments'])\n",
      "Le Figaro\n"
     ]
    }
   ],
   "source": [
    "from trafilatura import bare_extraction\n",
    "\n",
    "doc_dict = bare_extraction(document)\n",
    "print(doc_dict.keys())\n",
    "print(doc_dict['sitename'])"
   ]
  },
  {
   "cell_type": "markdown",
   "id": "6c0c2685-ae86-45f8-ad5c-9c10a4fcb92a",
   "metadata": {},
   "source": [
    "### extract_metadata()"
   ]
  },
  {
   "cell_type": "code",
   "execution_count": 9,
   "id": "de489a51-2799-498d-aa2d-9c58f790ad24",
   "metadata": {},
   "outputs": [
    {
     "data": {
      "text/plain": [
       "{'title': 'Antarctique: manque criant de financements pour la recherche polaire française',\n",
       " 'author': 'Marc Cherki',\n",
       " 'url': 'https://www.lefigaro.fr/sciences/antarctique-manque-criant-de-financements-pour-la-recherche-polaire-francaise-20210614',\n",
       " 'hostname': 'lefigaro.fr',\n",
       " 'description': \"Alors que la réunion internationale de l'Antarctique se tient cette année à Paris, et malgré ses deux bases permanentes sur le continent blanc, la France consacre moins d'argent pour la science polaire que des pays comme la Pologne, la Corée du Sud ou l'Australie.\",\n",
       " 'sitename': 'Le Figaro',\n",
       " 'date': '2021-06-14',\n",
       " 'categories': ['Sciences & Environnement'],\n",
       " 'tags': ['Arctique, Antarctique, Recherche, Actualité, actualités, Sciences, astronomie, actualité scientifique, sciences humaines, écologie, planète, zoologie, faune et flore',\n",
       "  'Arctique, Antarctique, Recherche, Actualité, actualités, Sciences, astronomie, actualité scientifique, sciences humaines, écologie, planète, zoologie, faune et flore'],\n",
       " 'fingerprint': None,\n",
       " 'id': None,\n",
       " 'license': None}"
      ]
     },
     "execution_count": 9,
     "metadata": {},
     "output_type": "execute_result"
    }
   ],
   "source": [
    "from trafilatura import extract_metadata\n",
    "\n",
    "extract_metadata(document)"
   ]
  },
  {
   "cell_type": "markdown",
   "id": "e5bcb55b-60a6-4dae-ad86-bb16a39ddd88",
   "metadata": {},
   "source": [
    "## Découverte de documents textuels\n",
    "\n",
    "### Feeds\n",
    "\n",
    "Découverte de liens par [flux web](https://fr.wikipedia.org/wiki/Flux_web) :"
   ]
  },
  {
   "cell_type": "code",
   "execution_count": 10,
   "id": "6d0b2191-97a4-4347-a872-f835597a4583",
   "metadata": {},
   "outputs": [
    {
     "name": "stdout",
     "output_type": "stream",
     "text": [
      "https://www.lemonde.fr/economie/article/2021/06/15/covid-19-le-grand-bond-en-arriere-de-l-economie-indienne_6084241_3234.html\n",
      "https://www.lemonde.fr/economie/article/2021/06/15/guerre-airbus-boeing-l-union-europeenne-et-les-etats-unis-se-mettent-d-accord-pour-suspendre-les-droits-de-douane-punitifs_6084223_3234.html\n",
      "https://www.lemonde.fr/football/article/2021/06/15/didier-deschamps-un-basque-sur-une-galere-bordelaise_6084166_1616938.html\n",
      "https://www.lemonde.fr/idees/article/2021/06/15/les-quatre-verites-qu-arnaud-montebourg-assene-a-la-gauche_6084187_3232.html\n",
      "https://www.lemonde.fr/international/article/2021/06/15/communiques-du-g7-et-de-l-otan-la-chine-denonce-une-mentalite-de-guerre-froide_6084215_3210.html\n"
     ]
    }
   ],
   "source": [
    "from trafilatura.feeds import find_feed_urls\n",
    "\n",
    "liens = find_feed_urls('https://www.lemonde.fr')\n",
    "# 5 premiers liens trouvés dans le feed\n",
    "print('\\n'.join(liens[:5]))"
   ]
  },
  {
   "cell_type": "markdown",
   "id": "deb23164-1985-4de7-b6fe-bfb478193453",
   "metadata": {},
   "source": [
    "### Sitemaps\n",
    "\n",
    "Découverte de liens par le protocole [sitemaps](https://fr.wikipedia.org/wiki/Sitemaps) :"
   ]
  },
  {
   "cell_type": "code",
   "execution_count": 11,
   "id": "d2760f39-2c1c-4cff-a06a-740dbc220f8a",
   "metadata": {},
   "outputs": [
    {
     "name": "stdout",
     "output_type": "stream",
     "text": [
      "https://www.sitemaps.org\n",
      "https://www.sitemaps.org/en_GB/\n",
      "https://www.sitemaps.org/en_GB/faq.html\n",
      "https://www.sitemaps.org/en_GB/protocol.html\n",
      "https://www.sitemaps.org/en_GB/terms.html\n"
     ]
    }
   ],
   "source": [
    "from trafilatura.sitemaps import sitemap_search\n",
    "\n",
    "liens = sitemap_search('https://www.sitemaps.org', target_lang='en')\n",
    "# 5 premiers liens trouvés dans la sitemap\n",
    "print('\\n'.join(liens[:5]))"
   ]
  },
  {
   "cell_type": "markdown",
   "id": "d7f8f173-a6c0-47bf-8a8f-3184d876e495",
   "metadata": {},
   "source": [
    "### Web crawling\n",
    "\n",
    "Découverte de textes par exploration des pages internes d'un site et remontée des liens.\n",
    "\n",
    "Cet outil est communément appelé crawler/spider/[robot d'indexation](https://fr.wikipedia.org/wiki/Robot_d%27indexation)"
   ]
  },
  {
   "cell_type": "code",
   "execution_count": 12,
   "id": "da261699-6bdb-4bc2-bd7a-145ba69dd55f",
   "metadata": {},
   "outputs": [
    {
     "name": "stdout",
     "output_type": "stream",
     "text": [
      "195 198\n",
      "https://www.liberation.fr/archives/2019/10/\n",
      "https://www.liberation.fr/archives/2019/07/\n",
      "https://www.liberation.fr/archives/2019/12/\n",
      "https://www.liberation.fr/archives/2019/02/\n",
      "https://www.liberation.fr/archives/2019/11/\n",
      "---\n",
      "https://www.liberation.fr/societe/police-justice/sarkozy-au-proces-bygmalion-la-parole-est-a-la-depense-20210614_DSFYHP7KLBAD5FSLHYQZ6RZ6CY/\n",
      "https://www.liberation.fr/societe/education/laicite-blanquer-lance-un-plan-de-formation-des-enseignants-sur-quatre-ans-20210615_LX3FLGQQLFE35AOPQK47DOLP5A/\n",
      "https://www.liberation.fr/archives/1998/\n",
      "https://www.liberation.fr/politique/couvre-feu-les-oppositions-en-decalage-horaire-avec-la-majorite-20210614_6SYMQ3IC4ZBEBHS7H4GWQG5PIE/\n",
      "https://www.liberation.fr/societe/police-justice/\n"
     ]
    }
   ],
   "source": [
    "from trafilatura.spider import focused_crawler\n",
    "\n",
    "to_visit, known_urls = focused_crawler('https://www.liberation.fr', max_seen_urls=3)\n",
    "print(len(to_visit), len(known_urls))\n",
    "# doit être converti en liste pour afficher une tranche\n",
    "print('\\n'.join(list(to_visit)[:5]))\n",
    "print('---')\n",
    "print('\\n'.join(list(known_urls)[:5]))"
   ]
  },
  {
   "cell_type": "markdown",
   "id": "69707e87-5b9b-4aa6-8941-e623c7dc2738",
   "metadata": {},
   "source": [
    "Les pages de type \"archive\", \"categorie\" etc. sont privilegiées pour le parcours de la page et sont placées dans les premiers items de la todo-liste.\n",
    "\n",
    "Pour plus d'informations cf page [Web crawling](https://trafilatura.readthedocs.io/en/latest/crawls.html) de la documentation.\n",
    "\n",
    "### Téléchargements massifs\n",
    "\n",
    "- Application de \"règles de politesse\", cf page [Downloads](https://trafilatura.readthedocs.io/en/latest/downloads.html)\n",
    "- Utilisation d'archives existantes :\n",
    "    - Internet Archive, CommonCrawl et autres [sources pour corpus web](https://trafilatura.readthedocs.io/en/latest/sources.html)\n",
    "    - Méthodes : Recherche par préfixes sur https://index.commoncrawl.org/ / Outils comme le [cdx_toolkit](https://github.com/cocrawler/cdx_toolkit/)\n"
   ]
  },
  {
   "cell_type": "markdown",
   "id": "208cdb04-7573-41f8-a4ec-dff2398d31b1",
   "metadata": {},
   "source": [
    "## Validation de documents XML-TEI\n",
    "\n",
    "### Validation de la sortie"
   ]
  },
  {
   "cell_type": "code",
   "execution_count": 13,
   "id": "5ddad7c3-e2a9-4206-968a-f97a69f4b87d",
   "metadata": {},
   "outputs": [
    {
     "name": "stderr",
     "output_type": "stream",
     "text": [
      "WARNING:trafilatura.xml:not a valid TEI document: <string>:0:0:ERROR:RELAXNGV:RELAXNG_ERR_ELEMWRONG: Did not expect element body there\n"
     ]
    },
    {
     "data": {
      "text/plain": [
       "False"
      ]
     },
     "execution_count": 13,
     "metadata": {},
     "output_type": "execute_result"
    }
   ],
   "source": [
    "from trafilatura import bare_extraction\n",
    "from trafilatura.xml import validate_tei\n",
    "\n",
    "doc_dict = bare_extraction(document, output_format='xmltei')\n",
    "arbre_tei = doc_dict['body']\n",
    "# non valide (fréquent)\n",
    "validate_tei(arbre_tei)"
   ]
  },
  {
   "cell_type": "markdown",
   "id": "c4d3beeb-9521-437b-8630-48470377392a",
   "metadata": {},
   "source": [
    "### Validation d'un autre document"
   ]
  },
  {
   "cell_type": "code",
   "execution_count": 14,
   "id": "c18ad5a4-d163-407a-bd2e-50d9e03dce11",
   "metadata": {},
   "outputs": [],
   "source": [
    "from lxml import etree\n",
    "from trafilatura.xml import validate_tei\n",
    "\n",
    "# example avec un fichier \"document.xml\"\n",
    "# mytree = etree.parse('document.xml')\n",
    "# validate_tei(mytree)\n",
    "# sortie : True ou message d'erreur"
   ]
  },
  {
   "cell_type": "code",
   "execution_count": null,
   "id": "fcf23a2a-61e8-4d50-9059-2e7fcd25fee7",
   "metadata": {},
   "outputs": [],
   "source": []
  }
 ],
 "metadata": {
  "kernelspec": {
   "display_name": "Python 3",
   "language": "python",
   "name": "python3"
  },
  "language_info": {
   "codemirror_mode": {
    "name": "ipython",
    "version": 3
   },
   "file_extension": ".py",
   "mimetype": "text/x-python",
   "name": "python",
   "nbconvert_exporter": "python",
   "pygments_lexer": "ipython3",
   "version": "3.6.9"
  },
  "toc-autonumbering": false,
  "toc-showmarkdowntxt": false
 },
 "nbformat": 4,
 "nbformat_minor": 5
}
