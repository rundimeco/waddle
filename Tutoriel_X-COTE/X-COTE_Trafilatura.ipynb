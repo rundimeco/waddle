{
 "cells": [
  {
   "cell_type": "markdown",
   "metadata": {},
   "source": [
    "# Extraction de textes avec Trafilatura\n",
    "\n",
    "## 1. Installation\n",
    "\n",
    "#### Installation simple\n",
    "\n",
    "`pip install trafilatura`\n",
    "\n",
    "#### Mise à jour\n",
    "\n",
    "`pip install --user -U trafilatura`\n",
    "\n",
    "**Pour plus d'informations cf rubrique [Installation](https://trafilatura.readthedocs.io/en/latest/installation.html).**"
   ]
  },
  {
   "cell_type": "markdown",
   "metadata": {},
   "source": [
    "## 2. Téléchargement"
   ]
  },
  {
   "cell_type": "code",
   "execution_count": 1,
   "metadata": {},
   "outputs": [],
   "source": [
    "from trafilatura import fetch_url\n",
    "\n",
    "document = fetch_url('https://www.example.org')"
   ]
  },
  {
   "cell_type": "markdown",
   "metadata": {},
   "source": [
    "Pour des questions liées aux téléchargements en série et à l'efficacité voir la [documentation en ligne](https://trafilatura.readthedocs.io/)."
   ]
  },
  {
   "cell_type": "markdown",
   "metadata": {},
   "source": [
    "## 3. Fonction \"extract\""
   ]
  },
  {
   "cell_type": "code",
   "execution_count": 2,
   "metadata": {},
   "outputs": [
    {
     "name": "stdout",
     "output_type": "stream",
     "text": [
      "This domain is for use in illustrative examples in documents. You may use this domain in literature without prior coordination or asking for permission.\n",
      "More information...\n"
     ]
    }
   ],
   "source": [
    "from trafilatura import extract\n",
    "\n",
    "texte = extract(document)\n",
    "print(texte)"
   ]
  },
  {
   "cell_type": "markdown",
   "metadata": {},
   "source": [
    "### Différents formats en sortie:"
   ]
  },
  {
   "cell_type": "code",
   "execution_count": 3,
   "metadata": {},
   "outputs": [
    {
     "name": "stdout",
     "output_type": "stream",
     "text": [
      "<doc title=\"Example Domain\" categories=\"\" tags=\"\" fingerprint=\"FYMpE8PW9rnzogCzwvwGlIXzkHw=\">\n",
      "  <main>\n",
      "    <p>This domain is for use in illustrative examples in documents. You may use this domain in literature without prior coordination or asking for permission.</p>\n",
      "    <p>More information...</p>\n",
      "  </main>\n",
      "  <comments/>\n",
      "</doc>\n"
     ]
    }
   ],
   "source": [
    "texte_xml = extract(document, output_format='xml')\n",
    "print(texte_xml)"
   ]
  },
  {
   "cell_type": "markdown",
   "metadata": {},
   "source": [
    "## Autres fonctions utiles\n",
    "\n",
    "Documentation des fonctions:\n",
    "\n",
    "- [extract](https://trafilatura.readthedocs.io/en/latest/corefunctions.html#trafilatura.extract)\n",
    "- [bare_extraction](https://trafilatura.readthedocs.io/en/latest/corefunctions.html#trafilatura.bare_extraction)\n",
    "- [baseline](https://trafilatura.readthedocs.io/en/latest/corefunctions.html#trafilatura.baseline)\n",
    "- [extract_metadata](https://trafilatura.readthedocs.io/en/latest/corefunctions.html#trafilatura.extract_metadata)"
   ]
  },
  {
   "cell_type": "markdown",
   "metadata": {},
   "source": [
    "### Ouverture et lecture de fichiers\n",
    "\n",
    "#### Lecture de chaîne de caractères (Unicode)"
   ]
  },
  {
   "cell_type": "code",
   "execution_count": 4,
   "metadata": {},
   "outputs": [],
   "source": [
    "fichier = 'fichiers2/lemonde-antarctique.html'\n",
    "with open(fichier, encoding='utf-8') as f:\n",
    "    document = f.read()\n",
    "# extract(document)"
   ]
  },
  {
   "cell_type": "markdown",
   "metadata": {},
   "source": [
    "#### Lecture d'arbres parsés par LXML"
   ]
  },
  {
   "cell_type": "code",
   "execution_count": 5,
   "metadata": {},
   "outputs": [],
   "source": [
    "from lxml import html\n",
    "\n",
    "arbre = html.fromstring(document)\n",
    "#extract(arbre)"
   ]
  },
  {
   "cell_type": "markdown",
   "metadata": {},
   "source": [
    "### Comparaison de la sortie de la baseline et de l'outil complet"
   ]
  },
  {
   "cell_type": "code",
   "execution_count": 6,
   "metadata": {},
   "outputs": [
    {
     "name": "stdout",
     "output_type": "stream",
     "text": [
      "Tribune. Le traité sur l’Antarctique (RCTA), entré en vigueur en 1961, est un outil juridique exceptionnel et unique en son genre. Au plus fort de la guerre froide, douze pays ont été capables de surmonter leurs divergences pour parvenir à une solution conjointe qui préserve les intérêts de tous et en premier lieu ceux de la planète : en gelant les revendications et contestations territoriales, en interdisant les activités autres que pacifiques en Antarctique et en y garantissant la liberté de recherche scientifique et la coopération à cette fin. Il en va de l’intérêt de toute l’humanité que l’Antarctique, dont nous avons la responsabilité collective, reste pour toujours réservé aux seules activités pacifiques et ne devienne jamais le terrain de différends internationaux. Bien que l’Antarctique soit sanctuarisé, il est aujourd’hui impératif de rehausser son niveau de protection et de l’étendre aux espaces océaniques pour faire face aux bouleversements climatiques majeurs et aux pressions exercées sur la biodiversité. Article réservé à nos abonnés Lire aussi De Jean-Louis Etienne à Swings : la quête des mystères de l’océan Austral, crucial dans la régulation du climat Car l’océan Austral qui borde l’Antarctique constitue une richesse écologique hors du commun et joue un rôle-clé pour le climat : il contribue à près de 75 % à l’absorption globale de chaleur excédentaire et à 35 % à la séquestration du CO2 capté par l’océan mondial. Principal accumulateur de chaleur et puits de carbone, il joue aussi un rôle important dans la production d’oxygène. Poursuivre l’esprit de 1961 Sa protection s’avère donc être un maillon-clé dans la lutte contre l’impact du changement climatique et la préservation de la biodiversité. Avec plus de 9 000 espèces marines répertoriées à ce jour, sa biodiversité est exceptionnellement riche. Le krill constitue une espèce essentielle de la chaîne alimentaire et des équilibres biologiques. Il forme une biomasse vitale dans cette zone océanique, qui approvisionne en nutriments l’océan mondial. Article réservé à nos abonnés Lire aussi Le réchauffement climatique va accélérer la naissance d’icebergs Notre responsabilité est aujourd’hui d’établir un réseau d’aires marines protégées (AMP). Dès 2010, la France avec l’Union européenne (UE) et d’autres pays ont proposé d’y créer une nouvelle AMP portant sur presque un million de kilomètres carrés dans la zone Antarctique orientale. Des négociations ont été ouvertes et ont fait l’objet de blocages depuis 2017. Elles doivent aboutir à une décision en octobre 2021 dans le cadre de la Convention pour la conservation de la faune et la flore marine de l’Antarctique (CCAMLR). A la veille de l’ouverture de la 43e Réunion consultative du traité sur l’Antarctique et des rendez-vous internationaux de 2021 dédiés à la protection de la biodiversité (COP15) et du climat (COP26), l’Antarctique doit être le symbole de notre engagement commun dans la lutte contre la crise environnementale. C’est l’esprit même du traité entré en vigueur en 1961 – alors même que le contexte s’y prêtait pourtant bien peu et que la guerre froide battait son plein – qui doit permettre de dépasser ces blocages sur les AMP et guider le consensus international. Il vous reste 45.29% de cet article à lire. La suite est réservée aux abonnés.\n"
     ]
    }
   ],
   "source": [
    "from trafilatura import baseline\n",
    "\n",
    "objet_lxml, texte, longueur = baseline(document)\n",
    "print(texte)"
   ]
  },
  {
   "cell_type": "code",
   "execution_count": 7,
   "metadata": {},
   "outputs": [
    {
     "name": "stdout",
     "output_type": "stream",
     "text": [
      "Tribune. Le traité sur l’Antarctique (RCTA), entré en vigueur en 1961, est un outil juridique exceptionnel et unique en son genre. Au plus fort de la guerre froide, douze pays ont été capables de surmonter leurs divergences pour parvenir à une solution conjointe qui préserve les intérêts de tous et en premier lieu ceux de la planète : en gelant les revendications et contestations territoriales, en interdisant les activités autres que pacifiques en Antarctique et en y garantissant la liberté de recherche scientifique et la coopération à cette fin.\n",
      "Il en va de l’intérêt de toute l’humanité que l’Antarctique, dont nous avons la responsabilité collective, reste pour toujours réservé aux seules activités pacifiques et ne devienne jamais le terrain de différends internationaux. Bien que l’Antarctique soit sanctuarisé, il est aujourd’hui impératif de rehausser son niveau de protection et de l’étendre aux espaces océaniques pour faire face aux bouleversements climatiques majeurs et aux pressions exercées sur la biodiversité.\n",
      "Car l’océan Austral qui borde l’Antarctique constitue une richesse écologique hors du commun et joue un rôle-clé pour le climat : il contribue à près de 75 % à l’absorption globale de chaleur excédentaire et à 35 % à la séquestration du CO2 capté par l’océan mondial. Principal accumulateur de chaleur et puits de carbone, il joue aussi un rôle important dans la production d’oxygène.\n",
      "Poursuivre l’esprit de 1961\n",
      "Sa protection s’avère donc être un maillon-clé dans la lutte contre l’impact du changement climatique et la préservation de la biodiversité. Avec plus de 9 000 espèces marines répertoriées à ce jour, sa biodiversité est exceptionnellement riche. Le krill constitue une espèce essentielle de la chaîne alimentaire et des équilibres biologiques. Il forme une biomasse vitale dans cette zone océanique, qui approvisionne en nutriments l’océan mondial.\n",
      "Notre responsabilité est aujourd’hui d’établir un réseau d’aires marines protégées (AMP). Dès 2010, la France avec l’Union européenne (UE) et d’autres pays ont proposé d’y créer une nouvelle AMP portant sur presque un million de kilomètres carrés dans la zone Antarctique orientale. Des négociations ont été ouvertes et ont fait l’objet de blocages depuis 2017. Elles doivent aboutir à une décision en octobre 2021 dans le cadre de la Convention pour la conservation de la faune et la flore marine de l’Antarctique (CCAMLR).\n",
      "A la veille de l’ouverture de la 43e Réunion consultative du traité sur l’Antarctique et des rendez-vous internationaux de 2021 dédiés à la protection de la biodiversité (COP15) et du climat (COP26), l’Antarctique doit être le symbole de notre engagement commun dans la lutte contre la crise environnementale. C’est l’esprit même du traité entré en vigueur en 1961 – alors même que le contexte s’y prêtait pourtant bien peu et que la guerre froide battait son plein – qui doit permettre de dépasser ces blocages sur les AMP et guider le consensus international.\n",
      "Il vous reste 45.29% de cet article à lire. La suite est réservée aux abonnés.\n"
     ]
    }
   ],
   "source": [
    "texte = extract(document)\n",
    "print(texte)"
   ]
  },
  {
   "cell_type": "markdown",
   "metadata": {},
   "source": [
    "### bare_extraction() "
   ]
  },
  {
   "cell_type": "code",
   "execution_count": 8,
   "metadata": {},
   "outputs": [
    {
     "name": "stdout",
     "output_type": "stream",
     "text": [
      "dict_keys(['title', 'author', 'url', 'hostname', 'description', 'sitename', 'date', 'categories', 'tags', 'fingerprint', 'id', 'license', 'text', 'comments'])\n",
      "Le Monde.fr\n"
     ]
    }
   ],
   "source": [
    "from trafilatura import bare_extraction\n",
    "\n",
    "doc_dict = bare_extraction(document)\n",
    "print(doc_dict.keys())\n",
    "print(doc_dict['sitename'])"
   ]
  },
  {
   "cell_type": "markdown",
   "metadata": {},
   "source": [
    "### extract_metadata()"
   ]
  },
  {
   "cell_type": "code",
   "execution_count": 9,
   "metadata": {},
   "outputs": [
    {
     "data": {
      "text/plain": [
       "{'title': '« L’Antarctique le symbole de notre engagement commun dans la lutte contre la crise environnementale »',\n",
       " 'author': 'Isabelle Autissier; Olivier Poivre d’Arvor',\n",
       " 'url': 'https://www.lemonde.fr/idees/article/2021/06/08/l-antarctique-le-symbole-de-notre-engagement-commun-dans-la-lutte-contre-la-crise-environnementale_6083342_3232.html',\n",
       " 'hostname': 'lemonde.fr',\n",
       " 'description': 'TRIBUNE. La France accueillera, du 14 au 24 juin, la 43e Réunion consultative du traité sur l’Antarctique (RCTA) qui rassemblera les 54 États parties en vue de consultations sur les questions d’intérêt commun concernant l’Antarctique, ce qui sera l’occasion d’assurer la poursuite des objectifs du traité, expliquent, dans une tribune au « Monde », Isabelle Autissier et Olivier Poivre d’Arvor.',\n",
       " 'sitename': 'Le Monde.fr',\n",
       " 'date': '2021-06-08',\n",
       " 'categories': [],\n",
       " 'tags': [],\n",
       " 'fingerprint': None,\n",
       " 'id': None,\n",
       " 'license': None}"
      ]
     },
     "execution_count": 9,
     "metadata": {},
     "output_type": "execute_result"
    }
   ],
   "source": [
    "from trafilatura import extract_metadata\n",
    "\n",
    "extract_metadata(document)"
   ]
  },
  {
   "cell_type": "markdown",
   "metadata": {},
   "source": [
    "## Découverte de documents textuels\n",
    "\n",
    "### Feeds\n",
    "\n",
    "Découverte de liens par [flux web](https://fr.wikipedia.org/wiki/Flux_web) :"
   ]
  },
  {
   "cell_type": "code",
   "execution_count": 10,
   "metadata": {},
   "outputs": [
    {
     "name": "stdout",
     "output_type": "stream",
     "text": [
      "https://www.lemonde.fr/afrique/article/2021/06/29/ethiopie-l-avancee-decisive-des-rebelles-marque-un-tournant-dans-la-guerre-au-tigre_6086174_3212.html\n",
      "https://www.lemonde.fr/afrique/article/2021/06/29/l-ancien-president-sud-africain-jacob-zuma-condamne-a-quinze-mois-de-prison-pour-outrage-a-la-justice_6086200_3212.html\n",
      "https://www.lemonde.fr/culture/article/2021/06/29/bourges-se-porte-candidate-au-titre-de-capitale-europeenne-de-la-culture-2028_6086192_3246.html\n",
      "https://www.lemonde.fr/economie/article/2021/06/29/etats-unis-une-decision-de-justice-en-faveur-de-facebook-intensifie-les-debats-sur-les-lois-antitrust_6086185_3234.html\n",
      "https://www.lemonde.fr/economie/article/2021/06/29/le-taux-de-chomage-est-reste-stable-au-premier-trimestre-2021-en-france_6086207_3234.html\n"
     ]
    }
   ],
   "source": [
    "from trafilatura.feeds import find_feed_urls\n",
    "\n",
    "liens = find_feed_urls('https://www.lemonde.fr')\n",
    "# 5 premiers liens trouvés dans le feed\n",
    "print('\\n'.join(liens[:5]))"
   ]
  },
  {
   "cell_type": "markdown",
   "metadata": {},
   "source": [
    "### Sitemaps\n",
    "\n",
    "Découverte de liens par le protocole [sitemaps](https://fr.wikipedia.org/wiki/Sitemaps) :"
   ]
  },
  {
   "cell_type": "code",
   "execution_count": 11,
   "metadata": {},
   "outputs": [
    {
     "name": "stdout",
     "output_type": "stream",
     "text": [
      "https://www.sitemaps.org\n",
      "https://www.sitemaps.org/en_GB/\n",
      "https://www.sitemaps.org/en_GB/faq.html\n",
      "https://www.sitemaps.org/en_GB/protocol.html\n",
      "https://www.sitemaps.org/en_GB/terms.html\n"
     ]
    }
   ],
   "source": [
    "from trafilatura.sitemaps import sitemap_search\n",
    "\n",
    "liens = sitemap_search('https://www.sitemaps.org', target_lang='en')\n",
    "# 5 premiers liens trouvés dans la sitemap\n",
    "print('\\n'.join(liens[:5]))"
   ]
  },
  {
   "cell_type": "markdown",
   "metadata": {},
   "source": [
    "### Web crawling\n",
    "\n",
    "Découverte de textes par exploration des pages internes d'un site et remontée des liens.\n",
    "\n",
    "Cet outil est communément appelé crawler/spider/[robot d'indexation](https://fr.wikipedia.org/wiki/Robot_d%27indexation)"
   ]
  },
  {
   "cell_type": "code",
   "execution_count": 12,
   "metadata": {},
   "outputs": [
    {
     "name": "stdout",
     "output_type": "stream",
     "text": [
      "201 204\n",
      "https://www.liberation.fr/archives/2014/06/\n",
      "https://www.liberation.fr/archives/2014/10/\n",
      "https://www.liberation.fr/archives/2014/03/\n",
      "https://www.liberation.fr/archives/2014/11/\n",
      "https://www.liberation.fr/archives/2014/08/\n",
      "---\n",
      "https://www.liberation.fr/lifestyle/\n",
      "http://abo.liberation.fr\n",
      "https://www.liberation.fr/lifestyle/design/\n",
      "https://www.liberation.fr/sports/rugby/\n",
      "https://www.liberation.fr/sports/jeux-olympiques/\n"
     ]
    }
   ],
   "source": [
    "from trafilatura.spider import focused_crawler\n",
    "\n",
    "to_visit, known_urls = focused_crawler('https://www.liberation.fr', max_seen_urls=3)\n",
    "print(len(to_visit), len(known_urls))\n",
    "# doit être converti en liste pour afficher une tranche\n",
    "print('\\n'.join(list(to_visit)[:5]))\n",
    "print('---')\n",
    "print('\\n'.join(list(known_urls)[:5]))"
   ]
  },
  {
   "cell_type": "markdown",
   "metadata": {},
   "source": [
    "Les pages de type \"archive\", \"categorie\" etc. sont privilegiées pour le parcours de la page et sont placées dans les premiers items de la todo-liste.\n",
    "\n",
    "Pour plus d'informations cf page [Web crawling](https://trafilatura.readthedocs.io/en/latest/crawls.html) de la documentation.\n",
    "\n",
    "### Téléchargements massifs\n",
    "\n",
    "- Application de \"règles de politesse\", cf page [Downloads](https://trafilatura.readthedocs.io/en/latest/downloads.html)\n",
    "- Utilisation d'archives existantes :\n",
    "    - Internet Archive, CommonCrawl et autres [sources pour corpus web](https://trafilatura.readthedocs.io/en/latest/sources.html)\n",
    "    - Méthodes : Recherche par préfixes sur https://index.commoncrawl.org/ / Outils comme le [cdx_toolkit](https://github.com/cocrawler/cdx_toolkit/)\n"
   ]
  },
  {
   "cell_type": "markdown",
   "metadata": {},
   "source": [
    "## Validation de documents XML-TEI\n",
    "\n",
    "### Validation de la sortie"
   ]
  },
  {
   "cell_type": "code",
   "execution_count": 13,
   "metadata": {},
   "outputs": [
    {
     "name": "stderr",
     "output_type": "stream",
     "text": [
      "WARNING:trafilatura.xml:not a valid TEI document: <string>:0:0:ERROR:RELAXNGV:RELAXNG_ERR_ELEMWRONG: Did not expect element body there\n"
     ]
    },
    {
     "data": {
      "text/plain": [
       "False"
      ]
     },
     "execution_count": 13,
     "metadata": {},
     "output_type": "execute_result"
    }
   ],
   "source": [
    "from trafilatura import bare_extraction\n",
    "from trafilatura.xml import validate_tei\n",
    "\n",
    "doc_dict = bare_extraction(document, output_format='xmltei')\n",
    "arbre_tei = doc_dict['body']\n",
    "# non valide (fréquent)\n",
    "validate_tei(arbre_tei)"
   ]
  },
  {
   "cell_type": "markdown",
   "metadata": {},
   "source": [
    "### Validation d'un autre document"
   ]
  },
  {
   "cell_type": "code",
   "execution_count": 14,
   "metadata": {},
   "outputs": [],
   "source": [
    "from lxml import etree\n",
    "from trafilatura.xml import validate_tei\n",
    "\n",
    "# example avec un fichier \"document.xml\"\n",
    "# mytree = etree.parse('document.xml')\n",
    "# validate_tei(mytree)\n",
    "# sortie : True ou message d'erreur"
   ]
  }
 ],
 "metadata": {
  "kernelspec": {
   "display_name": "Python 3",
   "language": "python",
   "name": "python3"
  },
  "language_info": {
   "codemirror_mode": {
    "name": "ipython",
    "version": 3
   },
   "file_extension": ".py",
   "mimetype": "text/x-python",
   "name": "python",
   "nbconvert_exporter": "python",
   "pygments_lexer": "ipython3",
   "version": "3.7.5"
  },
  "toc-autonumbering": false,
  "toc-showmarkdowntxt": false
 },
 "nbformat": 4,
 "nbformat_minor": 5
}
