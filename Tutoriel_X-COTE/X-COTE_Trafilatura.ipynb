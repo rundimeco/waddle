{
 "cells": [
  {
   "cell_type": "markdown",
   "id": "490a744b-5e90-43f1-86c2-93a141f9d6df",
   "metadata": {},
   "source": [
    "# Extraction de textes avec Trafilatura\n",
    "\n",
    "## 1. Installation\n",
    "\n",
    "#### Installation simple\n",
    "\n",
    "`pip install trafilatura`\n",
    "\n",
    "#### Mise à jour\n",
    "\n",
    "`pip install --user -U trafilatura`\n",
    "\n",
    "**Pour plus d'informations cf rubrique [Installation](https://trafilatura.readthedocs.io/en/latest/installation.html).**"
   ]
  },
  {
   "cell_type": "markdown",
   "id": "8505f5ea-b7dd-455e-94a2-0950ee5ebdc5",
   "metadata": {},
   "source": [
    "## 2. Téléchargement"
   ]
  },
  {
   "cell_type": "code",
   "execution_count": 1,
   "id": "8998cb12-efd0-4822-b214-77a94c79aead",
   "metadata": {},
   "outputs": [],
   "source": [
    "from trafilatura import fetch_url\n",
    "\n",
    "document = fetch_url('https://www.example.org')"
   ]
  },
  {
   "cell_type": "markdown",
   "id": "64f173b8-0778-4126-912e-f788b622ddb2",
   "metadata": {},
   "source": [
    "Pour des questions liées aux téléchargements en série et à l'efficacité voir la [documentation en ligne](https://trafilatura.readthedocs.io/)."
   ]
  },
  {
   "cell_type": "markdown",
   "id": "d5186981-567b-4720-8a53-a7a456ace98b",
   "metadata": {},
   "source": [
    "## 3. Fonction \"extract\""
   ]
  },
  {
   "cell_type": "code",
   "execution_count": 2,
   "id": "a127cca1-7bd6-41dc-851b-3920b6372e84",
   "metadata": {},
   "outputs": [
    {
     "name": "stdout",
     "output_type": "stream",
     "text": [
      "This domain is for use in illustrative examples in documents. You may use this domain in literature without prior coordination or asking for permission.\n",
      "More information...\n"
     ]
    }
   ],
   "source": [
    "from trafilatura import extract\n",
    "\n",
    "texte = extract(document)\n",
    "print(texte)"
   ]
  },
  {
   "cell_type": "markdown",
   "id": "53309bee-cf37-4182-b0e9-1b5c40439a8b",
   "metadata": {},
   "source": [
    "### Différents formats en sortie:"
   ]
  },
  {
   "cell_type": "code",
   "execution_count": 3,
   "id": "69f9c7c8-1cb8-43d7-9ef9-b304d7f60f3f",
   "metadata": {},
   "outputs": [
    {
     "name": "stdout",
     "output_type": "stream",
     "text": [
      "<doc title=\"Example Domain\" categories=\"\" tags=\"\" fingerprint=\"FYMpE8PW9rnzogCzwvwGlIXzkHw=\">\n",
      "  <main>\n",
      "    <p>This domain is for use in illustrative examples in documents. You may use this domain in literature without prior coordination or asking for permission.</p>\n",
      "    <p>More information...</p>\n",
      "  </main>\n",
      "  <comments/>\n",
      "</doc>\n"
     ]
    }
   ],
   "source": [
    "texte_xml = extract(document, output_format='xml')\n",
    "print(texte_xml)"
   ]
  },
  {
   "cell_type": "markdown",
   "id": "f7eb251d-97aa-42f2-b18e-a7b820c0d56b",
   "metadata": {},
   "source": [
    "## Autres fonctions utiles\n",
    "\n",
    "Documentation des fonctions:\n",
    "\n",
    "- [extract](https://trafilatura.readthedocs.io/en/latest/corefunctions.html#trafilatura.extract)\n",
    "- [bare_extraction](https://trafilatura.readthedocs.io/en/latest/corefunctions.html#trafilatura.bare_extraction)\n",
    "- [baseline](https://trafilatura.readthedocs.io/en/latest/corefunctions.html#trafilatura.baseline)\n",
    "- [extract_metadata](https://trafilatura.readthedocs.io/en/latest/corefunctions.html#trafilatura.extract_metadata)"
   ]
  },
  {
   "cell_type": "markdown",
   "id": "09f30bc4-29c9-49bc-85ca-cec93ffc34ce",
   "metadata": {},
   "source": [
    "### Ouverture et lecture de fichiers\n",
    "\n",
    "#### Lecture de chaîne de caractères (Unicode)"
   ]
  },
  {
   "cell_type": "code",
   "execution_count": 4,
   "id": "9f3ecad5-3fe5-409e-870c-99f0970aafb9",
   "metadata": {},
   "outputs": [],
   "source": [
    "fichier = 'fichiers2/lemonde-antarctique.html'\n",
    "with open(fichier, encoding='utf-8') as f:\n",
    "    document = f.read()\n",
    "# extract(document)"
   ]
  },
  {
   "cell_type": "markdown",
   "id": "ed69754e-5e3d-4d16-a254-0d68fc2e469d",
   "metadata": {},
   "source": [
    "#### Lecture d'arbres parsés par LXML"
   ]
  },
  {
   "cell_type": "code",
   "execution_count": 5,
   "id": "8818602a-2a2f-4fdb-8e47-f0bd8d560bfb",
   "metadata": {},
   "outputs": [],
   "source": [
    "from lxml import html\n",
    "\n",
    "arbre = html.fromstring(document)\n",
    "#extract(arbre)"
   ]
  },
  {
   "cell_type": "markdown",
   "id": "c558b83a-79be-481b-a5cb-ffada86444c7",
   "metadata": {},
   "source": [
    "### Comparaison de la sortie de la baseline et de l'outil complet"
   ]
  },
  {
   "cell_type": "code",
   "execution_count": 6,
   "id": "432fa488-bcc9-42d6-9afe-59cb28427ad4",
   "metadata": {},
   "outputs": [
    {
     "name": "stdout",
     "output_type": "stream",
     "text": [
      "Tribune. Le traité sur l’Antarctique (RCTA), entré en vigueur en 1961, est un outil juridique exceptionnel et unique en son genre. Au plus fort de la guerre froide, douze pays ont été capables de surmonter leurs divergences pour parvenir à une solution conjointe qui préserve les intérêts de tous et en premier lieu ceux de la planète : en gelant les revendications et contestations territoriales, en interdisant les activités autres que pacifiques en Antarctique et en y garantissant la liberté de recherche scientifique et la coopération à cette fin. Il en va de l’intérêt de toute l’humanité que l’Antarctique, dont nous avons la responsabilité collective, reste pour toujours réservé aux seules activités pacifiques et ne devienne jamais le terrain de différends internationaux. Bien que l’Antarctique soit sanctuarisé, il est aujourd’hui impératif de rehausser son niveau de protection et de l’étendre aux espaces océaniques pour faire face aux bouleversements climatiques majeurs et aux pressions exercées sur la biodiversité. Article réservé à nos abonnés Lire aussi De Jean-Louis Etienne à Swings : la quête des mystères de l’océan Austral, crucial dans la régulation du climat Car l’océan Austral qui borde l’Antarctique constitue une richesse écologique hors du commun et joue un rôle-clé pour le climat : il contribue à près de 75 % à l’absorption globale de chaleur excédentaire et à 35 % à la séquestration du CO2 capté par l’océan mondial. Principal accumulateur de chaleur et puits de carbone, il joue aussi un rôle important dans la production d’oxygène. Poursuivre l’esprit de 1961 Sa protection s’avère donc être un maillon-clé dans la lutte contre l’impact du changement climatique et la préservation de la biodiversité. Avec plus de 9 000 espèces marines répertoriées à ce jour, sa biodiversité est exceptionnellement riche. Le krill constitue une espèce essentielle de la chaîne alimentaire et des équilibres biologiques. Il forme une biomasse vitale dans cette zone océanique, qui approvisionne en nutriments l’océan mondial. Article réservé à nos abonnés Lire aussi Le réchauffement climatique va accélérer la naissance d’icebergs Notre responsabilité est aujourd’hui d’établir un réseau d’aires marines protégées (AMP). Dès 2010, la France avec l’Union européenne (UE) et d’autres pays ont proposé d’y créer une nouvelle AMP portant sur presque un million de kilomètres carrés dans la zone Antarctique orientale. Des négociations ont été ouvertes et ont fait l’objet de blocages depuis 2017. Elles doivent aboutir à une décision en octobre 2021 dans le cadre de la Convention pour la conservation de la faune et la flore marine de l’Antarctique (CCAMLR). A la veille de l’ouverture de la 43e Réunion consultative du traité sur l’Antarctique et des rendez-vous internationaux de 2021 dédiés à la protection de la biodiversité (COP15) et du climat (COP26), l’Antarctique doit être le symbole de notre engagement commun dans la lutte contre la crise environnementale. C’est l’esprit même du traité entré en vigueur en 1961 – alors même que le contexte s’y prêtait pourtant bien peu et que la guerre froide battait son plein – qui doit permettre de dépasser ces blocages sur les AMP et guider le consensus international. Il vous reste 45.29% de cet article à lire. La suite est réservée aux abonnés.\n"
     ]
    }
   ],
   "source": [
    "from trafilatura import baseline\n",
    "\n",
    "objet_lxml, texte, longueur = baseline(document)\n",
    "print(texte)"
   ]
  },
  {
   "cell_type": "code",
   "execution_count": 7,
   "id": "3849cc24-1628-4a9a-8a20-1017a038a99b",
   "metadata": {},
   "outputs": [
    {
     "name": "stdout",
     "output_type": "stream",
     "text": [
      "Tribune. Le traité sur l’Antarctique (RCTA), entré en vigueur en 1961, est un outil juridique exceptionnel et unique en son genre. Au plus fort de la guerre froide, douze pays ont été capables de surmonter leurs divergences pour parvenir à une solution conjointe qui préserve les intérêts de tous et en premier lieu ceux de la planète : en gelant les revendications et contestations territoriales, en interdisant les activités autres que pacifiques en Antarctique et en y garantissant la liberté de recherche scientifique et la coopération à cette fin.\n",
      "Il en va de l’intérêt de toute l’humanité que l’Antarctique, dont nous avons la responsabilité collective, reste pour toujours réservé aux seules activités pacifiques et ne devienne jamais le terrain de différends internationaux. Bien que l’Antarctique soit sanctuarisé, il est aujourd’hui impératif de rehausser son niveau de protection et de l’étendre aux espaces océaniques pour faire face aux bouleversements climatiques majeurs et aux pressions exercées sur la biodiversité.\n",
      "Car l’océan Austral qui borde l’Antarctique constitue une richesse écologique hors du commun et joue un rôle-clé pour le climat : il contribue à près de 75 % à l’absorption globale de chaleur excédentaire et à 35 % à la séquestration du CO2 capté par l’océan mondial. Principal accumulateur de chaleur et puits de carbone, il joue aussi un rôle important dans la production d’oxygène.\n",
      "Poursuivre l’esprit de 1961\n",
      "Sa protection s’avère donc être un maillon-clé dans la lutte contre l’impact du changement climatique et la préservation de la biodiversité. Avec plus de 9 000 espèces marines répertoriées à ce jour, sa biodiversité est exceptionnellement riche. Le krill constitue une espèce essentielle de la chaîne alimentaire et des équilibres biologiques. Il forme une biomasse vitale dans cette zone océanique, qui approvisionne en nutriments l’océan mondial.\n",
      "Notre responsabilité est aujourd’hui d’établir un réseau d’aires marines protégées (AMP). Dès 2010, la France avec l’Union européenne (UE) et d’autres pays ont proposé d’y créer une nouvelle AMP portant sur presque un million de kilomètres carrés dans la zone Antarctique orientale. Des négociations ont été ouvertes et ont fait l’objet de blocages depuis 2017. Elles doivent aboutir à une décision en octobre 2021 dans le cadre de la Convention pour la conservation de la faune et la flore marine de l’Antarctique (CCAMLR).\n",
      "A la veille de l’ouverture de la 43e Réunion consultative du traité sur l’Antarctique et des rendez-vous internationaux de 2021 dédiés à la protection de la biodiversité (COP15) et du climat (COP26), l’Antarctique doit être le symbole de notre engagement commun dans la lutte contre la crise environnementale. C’est l’esprit même du traité entré en vigueur en 1961 – alors même que le contexte s’y prêtait pourtant bien peu et que la guerre froide battait son plein – qui doit permettre de dépasser ces blocages sur les AMP et guider le consensus international.\n",
      "Il vous reste 45.29% de cet article à lire. La suite est réservée aux abonnés.\n"
     ]
    }
   ],
   "source": [
    "texte = extract(document)\n",
    "print(texte)"
   ]
  },
  {
   "cell_type": "markdown",
   "id": "ecc6a5b7-ca81-4c79-bcbe-678547d73d83",
   "metadata": {},
   "source": [
    "### bare_extraction() "
   ]
  },
  {
   "cell_type": "code",
   "execution_count": 8,
   "id": "1b5538b3-14f7-4a4e-bdbc-fee2a991d323",
   "metadata": {},
   "outputs": [
    {
     "name": "stdout",
     "output_type": "stream",
     "text": [
      "dict_keys(['title', 'author', 'url', 'hostname', 'description', 'sitename', 'date', 'categories', 'tags', 'fingerprint', 'id', 'license', 'text', 'comments'])\n",
      "Le Monde.fr\n"
     ]
    }
   ],
   "source": [
    "from trafilatura import bare_extraction\n",
    "\n",
    "doc_dict = bare_extraction(document)\n",
    "print(doc_dict.keys())\n",
    "print(doc_dict['sitename'])"
   ]
  },
  {
   "cell_type": "markdown",
   "id": "6c0c2685-ae86-45f8-ad5c-9c10a4fcb92a",
   "metadata": {},
   "source": [
    "### extract_metadata()"
   ]
  },
  {
   "cell_type": "code",
   "execution_count": 9,
   "id": "de489a51-2799-498d-aa2d-9c58f790ad24",
   "metadata": {},
   "outputs": [
    {
     "data": {
      "text/plain": [
       "{'title': '« L’Antarctique le symbole de notre engagement commun dans la lutte contre la crise environnementale »',\n",
       " 'author': 'Isabelle Autissier; Olivier Poivre d’Arvor',\n",
       " 'url': 'https://www.lemonde.fr/idees/article/2021/06/08/l-antarctique-le-symbole-de-notre-engagement-commun-dans-la-lutte-contre-la-crise-environnementale_6083342_3232.html',\n",
       " 'hostname': 'lemonde.fr',\n",
       " 'description': 'TRIBUNE. La France accueillera, du 14 au 24 juin, la 43e Réunion consultative du traité sur l’Antarctique (RCTA) qui rassemblera les 54 États parties en vue de consultations sur les questions d’intérêt commun concernant l’Antarctique, ce qui sera l’occasion d’assurer la poursuite des objectifs du traité, expliquent, dans une tribune au « Monde », Isabelle Autissier et Olivier Poivre d’Arvor.',\n",
       " 'sitename': 'Le Monde.fr',\n",
       " 'date': '2021-06-08',\n",
       " 'categories': [],\n",
       " 'tags': [],\n",
       " 'fingerprint': None,\n",
       " 'id': None,\n",
       " 'license': None}"
      ]
     },
     "execution_count": 9,
     "metadata": {},
     "output_type": "execute_result"
    }
   ],
   "source": [
    "from trafilatura import extract_metadata\n",
    "\n",
    "extract_metadata(document)"
   ]
  },
  {
   "cell_type": "markdown",
   "id": "e5bcb55b-60a6-4dae-ad86-bb16a39ddd88",
   "metadata": {},
   "source": [
    "## Découverte de documents textuels\n",
    "\n",
    "### Feeds\n",
    "\n",
    "Découverte de liens par [flux web](https://fr.wikipedia.org/wiki/Flux_web) :"
   ]
  },
  {
   "cell_type": "code",
   "execution_count": 10,
   "id": "6d0b2191-97a4-4347-a872-f835597a4583",
   "metadata": {},
   "outputs": [
    {
     "name": "stdout",
     "output_type": "stream",
     "text": [
      "https://www.lemonde.fr/afrique/article/2021/06/29/ethiopie-l-avancee-decisive-des-rebelles-marque-un-tournant-dans-la-guerre-au-tigre_6086174_3212.html\n",
      "https://www.lemonde.fr/afrique/article/2021/06/29/l-ancien-president-sud-africain-jacob-zuma-condamne-a-quinze-mois-de-prison-pour-outrage-a-la-justice_6086200_3212.html\n",
      "https://www.lemonde.fr/culture/article/2021/06/29/bourges-se-porte-candidate-au-titre-de-capitale-europeenne-de-la-culture-2028_6086192_3246.html\n",
      "https://www.lemonde.fr/economie/article/2021/06/29/etats-unis-une-decision-de-justice-en-faveur-de-facebook-intensifie-les-debats-sur-les-lois-antitrust_6086185_3234.html\n",
      "https://www.lemonde.fr/economie/article/2021/06/29/le-taux-de-chomage-est-reste-stable-au-premier-trimestre-2021-en-france_6086207_3234.html\n"
     ]
    }
   ],
   "source": [
    "from trafilatura.feeds import find_feed_urls\n",
    "\n",
    "liens = find_feed_urls('https://www.lemonde.fr')\n",
    "# 5 premiers liens trouvés dans le feed\n",
    "print('\\n'.join(liens[:5]))"
   ]
  },
  {
   "cell_type": "markdown",
   "id": "deb23164-1985-4de7-b6fe-bfb478193453",
   "metadata": {},
   "source": [
    "### Sitemaps\n",
    "\n",
    "Découverte de liens par le protocole [sitemaps](https://fr.wikipedia.org/wiki/Sitemaps) :"
   ]
  },
  {
   "cell_type": "code",
   "execution_count": 11,
   "id": "d2760f39-2c1c-4cff-a06a-740dbc220f8a",
   "metadata": {},
   "outputs": [
    {
     "name": "stdout",
     "output_type": "stream",
     "text": [
      "https://www.sitemaps.org\n",
      "https://www.sitemaps.org/en_GB/\n",
      "https://www.sitemaps.org/en_GB/faq.html\n",
      "https://www.sitemaps.org/en_GB/protocol.html\n",
      "https://www.sitemaps.org/en_GB/terms.html\n"
     ]
    }
   ],
   "source": [
    "from trafilatura.sitemaps import sitemap_search\n",
    "\n",
    "liens = sitemap_search('https://www.sitemaps.org', target_lang='en')\n",
    "# 5 premiers liens trouvés dans la sitemap\n",
    "print('\\n'.join(liens[:5]))"
   ]
  },
  {
   "cell_type": "markdown",
   "id": "d7f8f173-a6c0-47bf-8a8f-3184d876e495",
   "metadata": {},
   "source": [
    "### Web crawling\n",
    "\n",
    "Découverte de textes par exploration des pages internes d'un site et remontée des liens.\n",
    "\n",
    "Cet outil est communément appelé crawler/spider/[robot d'indexation](https://fr.wikipedia.org/wiki/Robot_d%27indexation)"
   ]
  },
  {
   "cell_type": "code",
   "execution_count": 12,
   "id": "da261699-6bdb-4bc2-bd7a-145ba69dd55f",
   "metadata": {},
   "outputs": [
    {
     "name": "stdout",
     "output_type": "stream",
     "text": [
      "201 204\n",
      "https://www.liberation.fr/archives/2014/06/\n",
      "https://www.liberation.fr/archives/2014/10/\n",
      "https://www.liberation.fr/archives/2014/03/\n",
      "https://www.liberation.fr/archives/2014/11/\n",
      "https://www.liberation.fr/archives/2014/08/\n",
      "---\n",
      "https://www.liberation.fr/lifestyle/\n",
      "http://abo.liberation.fr\n",
      "https://www.liberation.fr/lifestyle/design/\n",
      "https://www.liberation.fr/sports/rugby/\n",
      "https://www.liberation.fr/sports/jeux-olympiques/\n"
     ]
    }
   ],
   "source": [
    "from trafilatura.spider import focused_crawler\n",
    "\n",
    "to_visit, known_urls = focused_crawler('https://www.liberation.fr', max_seen_urls=3)\n",
    "print(len(to_visit), len(known_urls))\n",
    "# doit être converti en liste pour afficher une tranche\n",
    "print('\\n'.join(list(to_visit)[:5]))\n",
    "print('---')\n",
    "print('\\n'.join(list(known_urls)[:5]))"
   ]
  },
  {
   "cell_type": "markdown",
   "id": "69707e87-5b9b-4aa6-8941-e623c7dc2738",
   "metadata": {},
   "source": [
    "Les pages de type \"archive\", \"categorie\" etc. sont privilegiées pour le parcours de la page et sont placées dans les premiers items de la todo-liste.\n",
    "\n",
    "Pour plus d'informations cf page [Web crawling](https://trafilatura.readthedocs.io/en/latest/crawls.html) de la documentation.\n",
    "\n",
    "### Téléchargements massifs\n",
    "\n",
    "- Application de \"règles de politesse\", cf page [Downloads](https://trafilatura.readthedocs.io/en/latest/downloads.html)\n",
    "- Utilisation d'archives existantes :\n",
    "    - Internet Archive, CommonCrawl et autres [sources pour corpus web](https://trafilatura.readthedocs.io/en/latest/sources.html)\n",
    "    - Méthodes : Recherche par préfixes sur https://index.commoncrawl.org/ / Outils comme le [cdx_toolkit](https://github.com/cocrawler/cdx_toolkit/)\n"
   ]
  },
  {
   "cell_type": "markdown",
   "id": "208cdb04-7573-41f8-a4ec-dff2398d31b1",
   "metadata": {},
   "source": [
    "## Validation de documents XML-TEI\n",
    "\n",
    "### Validation de la sortie"
   ]
  },
  {
   "cell_type": "code",
   "execution_count": 13,
   "id": "5ddad7c3-e2a9-4206-968a-f97a69f4b87d",
   "metadata": {},
   "outputs": [
    {
     "name": "stderr",
     "output_type": "stream",
     "text": [
      "WARNING:trafilatura.xml:not a valid TEI document: <string>:0:0:ERROR:RELAXNGV:RELAXNG_ERR_ELEMWRONG: Did not expect element body there\n"
     ]
    },
    {
     "data": {
      "text/plain": [
       "False"
      ]
     },
     "execution_count": 13,
     "metadata": {},
     "output_type": "execute_result"
    }
   ],
   "source": [
    "from trafilatura import bare_extraction\n",
    "from trafilatura.xml import validate_tei\n",
    "\n",
    "doc_dict = bare_extraction(document, output_format='xmltei')\n",
    "arbre_tei = doc_dict['body']\n",
    "# non valide (fréquent)\n",
    "validate_tei(arbre_tei)"
   ]
  },
  {
   "cell_type": "markdown",
   "id": "c4d3beeb-9521-437b-8630-48470377392a",
   "metadata": {},
   "source": [
    "### Validation d'un autre document"
   ]
  },
  {
   "cell_type": "code",
   "execution_count": 14,
   "id": "c18ad5a4-d163-407a-bd2e-50d9e03dce11",
   "metadata": {},
   "outputs": [],
   "source": [
    "from lxml import etree\n",
    "from trafilatura.xml import validate_tei\n",
    "\n",
    "# example avec un fichier \"document.xml\"\n",
    "# mytree = etree.parse('document.xml')\n",
    "# validate_tei(mytree)\n",
    "# sortie : True ou message d'erreur"
   ]
  }
 ],
 "metadata": {
  "kernelspec": {
   "display_name": "Python 3",
   "language": "python",
   "name": "python3"
  },
  "language_info": {
   "codemirror_mode": {
    "name": "ipython",
    "version": 3
   },
   "file_extension": ".py",
   "mimetype": "text/x-python",
   "name": "python",
   "nbconvert_exporter": "python",
   "pygments_lexer": "ipython3",
   "version": "3.6.9"
  },
  "toc-autonumbering": false,
  "toc-showmarkdowntxt": false
 },
 "nbformat": 4,
 "nbformat_minor": 5
}
