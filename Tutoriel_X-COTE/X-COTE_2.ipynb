{
 "cells": [
  {
   "cell_type": "markdown",
   "metadata": {},
   "source": [
    "**Partons du principe que l'on a une série de Html dans le dossier 'fichiers'**"
   ]
  },
  {
   "cell_type": "code",
   "execution_count": 1,
   "metadata": {},
   "outputs": [],
   "source": [
    "import glob\n",
    "liste_fichiers = glob.glob(\"fichiers/*\")"
   ]
  },
  {
   "cell_type": "code",
   "execution_count": 14,
   "metadata": {},
   "outputs": [],
   "source": [
    "#Lignes à décommenter pour installer les outils utilisés ici:\n",
    "#! pip install inscriptis --user\n",
    "#! pip install boilerpy3 --user\n",
    "\n",
    "import inscriptis\n",
    "\n",
    "res_inscriptis = {}\n",
    "for chemin in liste_fichiers:\n",
    "    with open(chemin) as f:\n",
    "        contenu = f.read()\n",
    "    res_inscriptis[chemin] = inscriptis.get_text(contenu)"
   ]
  },
  {
   "cell_type": "code",
   "execution_count": 3,
   "metadata": {},
   "outputs": [
    {
     "name": "stdout",
     "output_type": "stream",
     "text": [
      "Aller au contenu\n",
      "      Menu\n",
      "      Abonnez-vous 1€ le premier mois Rechercher\n",
      "          Notre application\n",
      "        Soyez alerté en temps réel\n",
      "        avec l'application Le Figaro\n",
      "\n",
      "        Rubriques et services du Figaro\n",
      "\n",
      "          * Politique\n",
      "         \n"
     ]
    }
   ],
   "source": [
    "##On affiche une fraction du résultat du dernier fichier traité\n",
    "print(res_inscriptis[chemin][:250])"
   ]
  },
  {
   "cell_type": "markdown",
   "metadata": {},
   "source": [
    "**On peut voir qu'Inscriptis ressort beaucoup de contenu puisqu'il intègre les menus**\n",
    "**Nous allons avoir un outil un peu plus perfectionné**"
   ]
  },
  {
   "cell_type": "code",
   "execution_count": 4,
   "metadata": {},
   "outputs": [],
   "source": [
    "from boilerpy3 import extractors\n",
    "\n",
    "res_boilerpy3 = {}\n",
    "\n",
    "for chemin in liste_fichiers:\n",
    "    f = open(chemin)\n",
    "    contenu = f.read()\n",
    "    f.close()\n",
    "    BP_extractor = extractors.DefaultExtractor()\n",
    "    res_boilerpy3[chemin] = BP_extractor.get_content(contenu)"
   ]
  },
  {
   "cell_type": "code",
   "execution_count": 5,
   "metadata": {},
   "outputs": [
    {
     "name": "stdout",
     "output_type": "stream",
     "text": [
      "Réservé aux abonnés\n",
      "Comment les microbes ont participé à la chute de l’Empire romain\n",
      "DÉCRYPTAGE - Dans un livre rédigé bien avant le Covid, l’historien américain Kyle Harper, spécialiste de l’Antiquité tardive, estime que la nature a eu sa part de re\n"
     ]
    }
   ],
   "source": [
    "print(res_boilerpy3[chemin][:250])"
   ]
  },
  {
   "cell_type": "markdown",
   "metadata": {},
   "source": [
    "**On va essaye de visualiser la différence entre les deux fichiers pour mieux comprendre tout ça**"
   ]
  },
  {
   "cell_type": "code",
   "execution_count": 6,
   "metadata": {},
   "outputs": [],
   "source": [
    "#NB: La  fonction ci-dessous pourrait être remplacée par quelque chose de plus précis  \n",
    "#Par exemple avec une vectorisation par sklearn et un calcul de distance par scipy.spatial\n",
    "#On choisit ici une approche simple et n'incluant pas l'installation de libraires trop lourdes\n",
    "\n",
    "def distance_jaccard_simple(l1, l2):\n",
    "    voc1 = set(l1.split())\n",
    "    voc2 = set(l2.split())\n",
    "    inter = voc1.intersection(voc2)\n",
    "    union = voc1.union(voc2)\n",
    "    if len(union)!=0:\n",
    "        jaccard = len(inter)/len(union)\n",
    "    else:\n",
    "        jaccard = 1\n",
    "    return jaccard"
   ]
  },
  {
   "cell_type": "code",
   "execution_count": 7,
   "metadata": {},
   "outputs": [
    {
     "name": "stdout",
     "output_type": "stream",
     "text": [
      "[0.0, 0.0, 0.0, 0.0, 0.0, 0.0, 0.0, 0.012658227848101266, 0.0, 0.0, 0.0, 0.0, 0.0, 0.0, 0.0, 0.0, 0.0, 0.0, 0.0, 0.0, 0.0, 0.0, 0.0, 0.0, 0.0, 0.0, 0.0]\n",
      "[0.0, 0.0, 0.0, 0.0, 0.0, 0.0, 0.0, 0.0, 0.0, 0.0, 0.0, 0.0, 0.0, 0.0, 0.0, 0.0, 0.0, 0.0, 0.0, 0.0, 0.0, 0.0, 0.0, 0.0, 0.0, 0.0, 0.0]\n",
      "[0.0, 0.0, 0.02564102564102564, 0.0, 0.0, 0.0, 0.0, 0.012195121951219513, 0.0, 0.0, 0.0, 0.0, 0.3333333333333333, 0.1111111111111111, 0.0, 0.0, 0.1111111111111111, 0.0, 0.02702702702702703, 0.0, 0.0, 0.0, 0.1111111111111111, 0.043478260869565216, 0.0, 0.0, 0.0]\n",
      "[0.0, 0.0, 0.0, 0.0, 0.0, 0.0, 0.0, 0.0, 0.0, 0.0, 0.0, 0.0, 0.0, 0.0, 0.0, 0.0, 0.0, 0.0, 0.0, 0.0, 0.0, 0.0, 0.0, 0.0, 0.0, 0.0, 0.0]\n",
      "[0.0, 0.0, 0.0, 0.0, 0.0, 0.0, 0.0, 0.012345679012345678, 0.0, 0.01639344262295082, 0.0, 0.0, 0.0, 0.0, 0.0, 0.0, 0.0, 0.0, 0.0, 0.0, 0.0, 0.0, 0.0, 0.045454545454545456, 0.0, 0.0, 0.0]\n"
     ]
    }
   ],
   "source": [
    "## On va comparer fichier les deux sorties res_inscriptis et res_boilerpy3 avec un indice de Jaccard\n",
    "import re\n",
    "matrixes = {}\n",
    "\n",
    "for name in liste_fichiers:\n",
    "    lignes1 = re.split(\"\\n\", res_inscriptis[name])\n",
    "    lignes2 = re.split(\"\\n\", res_boilerpy3[name])\n",
    "    matrix = [ [1]*len(lignes2) for i in range(len(lignes1))]\n",
    "    for i in range(len(lignes1)):\n",
    "        for j in range(len(lignes2)):\n",
    "            jaccard = distance_jaccard_simple(lignes1[i], lignes2[j])\n",
    "            matrix[i][j] = jaccard\n",
    "    matrixes[name] = matrix\n",
    "\n",
    "# on affiche les 5 premières lignes d'une matrice\n",
    "for ligne in matrix[:5]:\n",
    "    print(ligne)"
   ]
  },
  {
   "cell_type": "code",
   "execution_count": 8,
   "metadata": {
    "scrolled": true
   },
   "outputs": [
    {
     "name": "stdout",
     "output_type": "stream",
     "text": [
      "      0    1         2    3    4    5    6         7    8         9   ...  \\\n",
      "0    0.0  0.0  0.000000  0.0  0.0  0.0  0.0  0.012658  0.0  0.000000  ...   \n",
      "1    0.0  0.0  0.000000  0.0  0.0  0.0  0.0  0.000000  0.0  0.000000  ...   \n",
      "2    0.0  0.0  0.025641  0.0  0.0  0.0  0.0  0.012195  0.0  0.000000  ...   \n",
      "3    0.0  0.0  0.000000  0.0  0.0  0.0  0.0  0.000000  0.0  0.000000  ...   \n",
      "4    0.0  0.0  0.000000  0.0  0.0  0.0  0.0  0.012346  0.0  0.016393  ...   \n",
      "..   ...  ...       ...  ...  ...  ...  ...       ...  ...       ...  ...   \n",
      "367  0.0  0.0  0.000000  0.0  0.0  0.0  0.0  0.000000  0.0  0.000000  ...   \n",
      "368  0.0  0.0  0.000000  0.0  0.0  0.0  0.0  0.000000  0.0  0.000000  ...   \n",
      "369  0.0  0.0  0.000000  0.0  0.0  0.0  0.0  0.000000  0.0  0.000000  ...   \n",
      "370  0.0  0.0  0.000000  0.0  0.0  0.0  0.0  0.000000  0.0  0.000000  ...   \n",
      "371  0.0  0.0  0.000000  0.0  0.0  0.0  0.0  0.000000  0.0  0.000000  ...   \n",
      "\n",
      "      17        18   19   20   21        22        23   24   25   26  \n",
      "0    0.0  0.000000  0.0  0.0  0.0  0.000000  0.000000  0.0  0.0  0.0  \n",
      "1    0.0  0.000000  0.0  0.0  0.0  0.000000  0.000000  0.0  0.0  0.0  \n",
      "2    0.0  0.027027  0.0  0.0  0.0  0.111111  0.043478  0.0  0.0  0.0  \n",
      "3    0.0  0.000000  0.0  0.0  0.0  0.000000  0.000000  0.0  0.0  0.0  \n",
      "4    0.0  0.000000  0.0  0.0  0.0  0.000000  0.045455  0.0  0.0  0.0  \n",
      "..   ...       ...  ...  ...  ...       ...       ...  ...  ...  ...  \n",
      "367  0.0  0.000000  0.0  0.0  0.0  0.000000  0.000000  0.0  0.0  0.0  \n",
      "368  0.0  0.000000  0.0  0.0  0.0  0.000000  0.000000  0.0  0.0  0.0  \n",
      "369  0.0  0.000000  0.0  0.0  0.0  0.000000  0.000000  0.0  0.0  0.0  \n",
      "370  0.0  0.000000  0.0  0.0  0.0  0.000000  0.000000  0.0  0.0  0.0  \n",
      "371  0.0  0.000000  0.0  0.0  0.0  0.000000  0.000000  0.0  0.0  0.0  \n",
      "\n",
      "[372 rows x 27 columns]\n"
     ]
    }
   ],
   "source": [
    "##Constat: beaucoup de zéros\n",
    "# POur plus de lisibilité, on va utiliser Pandas\n",
    "import pandas as pd\n",
    "df = pd.DataFrame(matrix)\n",
    "print(df)"
   ]
  },
  {
   "cell_type": "code",
   "execution_count": 12,
   "metadata": {},
   "outputs": [
    {
     "data": {
      "text/plain": [
       "Text(33.0, 0.5, 'inscriptis')"
      ]
     },
     "execution_count": 12,
     "metadata": {},
     "output_type": "execute_result"
    },
    {
     "data": {
      "image/png": "[encoded data removed]",
      "text/plain": [
       "<Figure size 432x288 with 2 Axes>"
      ]
     },
     "metadata": {
      "needs_background": "light"
     },
     "output_type": "display_data"
    }
   ],
   "source": [
    "##NB: ne pas hésiter à exécuter la cellule deux fois si la matrice ne s'affiche pas\n",
    "import numpy as np \n",
    "import seaborn as sns\n",
    "ax = sns.heatmap(matrix)\n",
    "ax.set_title(f\"Alignement du fichier ''{name}''\")\n",
    "ax.set_xlabel(\"boilerpy3\")\n",
    "ax.set_ylabel(\"inscriptis\")\n"
   ]
  },
  {
   "cell_type": "markdown",
   "metadata": {},
   "source": [
    "On voit bien ici qu'Inscriptis \"ramène\" beaucoup plus de texte que boilerpipe :\n",
    "- 360 lignes VS 26\n",
    "- la sortie de Boilerpy correspond à une sous partie des lignes 72 à 144 de la sortie Inscriptis\n",
    "\n",
    "Sachant qu'il y a beaucoup de lignes vides, on peut obtenir une vision plus juste en filtrant la sortie d'Inscriptis"
   ]
  },
  {
   "cell_type": "code",
   "execution_count": 10,
   "metadata": {},
   "outputs": [],
   "source": [
    "from trafilatura.utils import sanitize\n",
    "\n",
    "matrixes = {}\n",
    "\n",
    "for name in liste_fichiers:\n",
    "    lignes1 = re.split(\"\\n\", sanitize(res_inscriptis[name]))\n",
    "    lignes2 = re.split(\"\\n\", sanitize(res_boilerpy3[name]))\n",
    "    matrix = [ [1]*len(lignes2) for i in range(len(lignes1))]\n",
    "    for i in range(len(lignes1)):\n",
    "        for j in range(len(lignes2)):\n",
    "            jaccard = distance_jaccard_simple(lignes1[i], lignes2[j])\n",
    "            matrix[i][j] = jaccard\n",
    "    matrixes[name] = matrix\n"
   ]
  },
  {
   "cell_type": "code",
   "execution_count": 11,
   "metadata": {},
   "outputs": [
    {
     "data": {
      "text/plain": [
       "<Figure size 432x288 with 0 Axes>"
      ]
     },
     "metadata": {},
     "output_type": "display_data"
    }
   ],
   "source": [
    "import os\n",
    "import re\n",
    "os.makedirs(\"matrixes\", exist_ok = True)\n",
    "\n",
    "w = open(\"visualisation.html\", \"w\")\n",
    "for name, matrix in matrixes.items():\n",
    "    filename = re.split(\"/\", name)[-1]\n",
    "    path_fig = f\"matrixes/{filename}.png\"\n",
    "    ax = sns.heatmap(matrix)\n",
    "    ax.set_title(f\"Alignement du fichier ''{name}''\")\n",
    "    ax.set_xlabel(\"boilerpy3\")\n",
    "    ax.set_ylabel(\"inscriptis\")\n",
    "    figure = ax.get_figure()\n",
    "    figure.savefig(path_fig)\n",
    "    figure.clear()\n",
    "    w.write(f\"<h2>{filename}</h2>\\n\")\n",
    "    w.write(f\"<img src='{path_fig}'/>\")\n",
    "w.close()"
   ]
  },
  {
   "cell_type": "markdown",
   "metadata": {},
   "source": [
    "Si tout s'est bien passé, vous devriez avoir les figures pour chaque fichier traité dans un dossier \"matrixes\" et un document intitulé \"visualisation.html\" qui les récapitule"
   ]
  },
  {
   "cell_type": "markdown",
   "metadata": {},
   "source": [
    "Ici on a travaillé sans vérité de terrain, simplement pour avoir une idée  plus précise de ce qu'il se passe selon que l'on utilise un outil \"naïf\" (type Inscriptis) ou un outil dédié (type boilerpy). Il y a aussi la famille des outils dont le but n'est pas l'extraction de texte en tant que telle mais la lisibilité (readability par exemple).\n",
    "\n",
    "Parmi les problèmes récurrents, on peut citer:\n",
    "- la langue traitée : la qualité des sorties varient fortement selon la langue traitée\n",
    "- la validité Html : certains outils sont très dépendants du parsing du Html\n",
    "- le temps de calcul : le temps de calcul peut varier d'un facteur 1 à 5 (voire plus dans des cas extrêmes)\n",
    "\n",
    "Pour plus de détails sur ces différents points et sur l'évaluation des outils disponibles, vous pouvez consulter \"Out-of-the-Box and into the Ditch? Multilingual Evaluation of Generic Text Extraction Tools\", Barbaresi & Lejeune 2020 :\n",
    "\n",
    "https://www.aclweb.org/anthology/2020.wac-1.2\n",
    "\n"
   ]
  },
  {
   "cell_type": "code",
   "execution_count": null,
   "metadata": {},
   "outputs": [],
   "source": []
  }
 ],
 "metadata": {
  "kernelspec": {
   "display_name": "Python 3",
   "language": "python",
   "name": "python3"
  },
  "language_info": {
   "codemirror_mode": {
    "name": "ipython",
    "version": 3
   },
   "file_extension": ".py",
   "mimetype": "text/x-python",
   "name": "python",
   "nbconvert_exporter": "python",
   "pygments_lexer": "ipython3",
   "version": "3.7.5"
  }
 },
 "nbformat": 4,
 "nbformat_minor": 2
}
