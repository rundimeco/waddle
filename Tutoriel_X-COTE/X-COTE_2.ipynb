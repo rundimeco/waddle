{
 "cells": [
  {
   "cell_type": "markdown",
   "metadata": {},
   "source": [
    "**Partons du principe que l'on a une série de Html dans le dossier toto**"
   ]
  },
  {
   "cell_type": "code",
   "execution_count": 4,
   "metadata": {},
   "outputs": [],
   "source": [
    "import glob\n",
    "liste_fichiers = glob.glob(\"toto/*\")\n"
   ]
  },
  {
   "cell_type": "code",
   "execution_count": 7,
   "metadata": {},
   "outputs": [],
   "source": [
    "#TODO: ajouter install inscriptis\n",
    "import inscriptis\n",
    "res_inscriptis = {}\n",
    "for chemin in liste_fichiers:\n",
    "    f = open(chemin)\n",
    "    contenu = f.read()\n",
    "    f.close()\n",
    "    res = inscriptis.get_text(contenu)\n",
    "    res_inscriptis[chemin] = res"
   ]
  },
  {
   "cell_type": "code",
   "execution_count": 9,
   "metadata": {},
   "outputs": [
    {
     "name": "stdout",
     "output_type": "stream",
     "text": [
      "Aller au contenu\n",
      "      Menu\n",
      "      Abonnez-vous 1€ le premier mois Rechercher\n",
      "          Notre application\n",
      "        Soyez alerté en temps réel\n",
      "        avec l'application Le Figaro\n",
      "\n",
      "        Rubriques et services du Figaro\n",
      "\n",
      "          * Politique\n",
      "         \n"
     ]
    }
   ],
   "source": [
    "print(res[:250])"
   ]
  },
  {
   "cell_type": "markdown",
   "metadata": {},
   "source": [
    "**On peut voir qu'Inscriptis ressort beaucoup de contenu puisqu'il intègre les menus**\n",
    "**Nous allons avoir un outil un peu plus perfectionné**"
   ]
  },
  {
   "cell_type": "code",
   "execution_count": 14,
   "metadata": {},
   "outputs": [
    {
     "ename": "TypeError",
     "evalue": "get_content() missing 1 required positional argument: 'text'",
     "output_type": "error",
     "traceback": [
      "\u001b[0;31m---------------------------------------------------------------------------\u001b[0m",
      "\u001b[0;31mTypeError\u001b[0m                                 Traceback (most recent call last)",
      "\u001b[0;32m<ipython-input-14-77226d9627e7>\u001b[0m in \u001b[0;36m<module>\u001b[0;34m\u001b[0m\n\u001b[1;32m      7\u001b[0m     \u001b[0mf\u001b[0m\u001b[0;34m.\u001b[0m\u001b[0mclose\u001b[0m\u001b[0;34m(\u001b[0m\u001b[0;34m)\u001b[0m\u001b[0;34m\u001b[0m\u001b[0;34m\u001b[0m\u001b[0m\n\u001b[1;32m      8\u001b[0m     \u001b[0mBP_extractor\u001b[0m \u001b[0;34m=\u001b[0m \u001b[0mextractors\u001b[0m\u001b[0;34m.\u001b[0m\u001b[0mDefaultExtractor\u001b[0m\u001b[0;34m\u001b[0m\u001b[0;34m\u001b[0m\u001b[0m\n\u001b[0;32m----> 9\u001b[0;31m     \u001b[0mres\u001b[0m \u001b[0;34m=\u001b[0m \u001b[0mBP_extractor\u001b[0m\u001b[0;34m.\u001b[0m\u001b[0mget_content\u001b[0m\u001b[0;34m(\u001b[0m\u001b[0mcontenu\u001b[0m\u001b[0;34m)\u001b[0m\u001b[0;34m\u001b[0m\u001b[0;34m\u001b[0m\u001b[0m\n\u001b[0m\u001b[1;32m     10\u001b[0m     \u001b[0mres_boilerpy3\u001b[0m\u001b[0;34m[\u001b[0m\u001b[0mchemin\u001b[0m\u001b[0;34m]\u001b[0m \u001b[0;34m=\u001b[0m \u001b[0mres\u001b[0m\u001b[0;34m\u001b[0m\u001b[0;34m\u001b[0m\u001b[0m\n",
      "\u001b[0;31mTypeError\u001b[0m: get_content() missing 1 required positional argument: 'text'"
     ]
    }
   ],
   "source": [
    "#TODO: install boilerpy\n",
    "from boilerpy3 import extractors\n",
    "res_boilerpy3 = {}\n",
    "for chemin in liste_fichiers:\n",
    "    f = open(chemin)\n",
    "    contenu = f.read()\n",
    "    f.close()\n",
    "    BP_extractor = extractors.DefaultExtractor\n",
    "    res = BP_extractor.get_content(contenu)\n",
    "    res_boilerpy3[chemin] = res"
   ]
  },
  {
   "cell_type": "code",
   "execution_count": null,
   "metadata": {},
   "outputs": [],
   "source": []
  }
 ],
 "metadata": {
  "kernelspec": {
   "display_name": "Python 3",
   "language": "python",
   "name": "python3"
  },
  "language_info": {
   "codemirror_mode": {
    "name": "ipython",
    "version": 3
   },
   "file_extension": ".py",
   "mimetype": "text/x-python",
   "name": "python",
   "nbconvert_exporter": "python",
   "pygments_lexer": "ipython3",
   "version": "3.7.5"
  }
 },
 "nbformat": 4,
 "nbformat_minor": 2
}
