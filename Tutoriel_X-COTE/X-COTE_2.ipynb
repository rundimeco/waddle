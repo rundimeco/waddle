{
 "cells": [
  {
   "cell_type": "markdown",
   "metadata": {},
   "source": [
    "**Partons du principe que l'on a une série de Html dans le dossier toto**"
   ]
  },
  {
   "cell_type": "code",
   "execution_count": 15,
   "metadata": {},
   "outputs": [],
   "source": [
    "import glob\n",
    "liste_fichiers = glob.glob(\"fichiers/*\")"
   ]
  },
  {
   "cell_type": "code",
   "execution_count": 16,
   "metadata": {},
   "outputs": [],
   "source": [
    "#TODO: ajouter install inscriptis\n",
    "import inscriptis\n",
    "res_inscriptis = {}\n",
    "for chemin in liste_fichiers:\n",
    "    f = open(chemin)\n",
    "    contenu = f.read()\n",
    "    f.close()\n",
    "    res_inscriptis[chemin] = inscriptis.get_text(contenu)"
   ]
  },
  {
   "cell_type": "code",
   "execution_count": 17,
   "metadata": {},
   "outputs": [
    {
     "name": "stdout",
     "output_type": "stream",
     "text": [
      "Aller au contenu\n",
      "      Menu\n",
      "      Abonnez-vous 1€ le premier mois Rechercher\n",
      "          Notre application\n",
      "        Soyez alerté en temps réel\n",
      "        avec l'application Le Figaro\n",
      "\n",
      "        Rubriques et services du Figaro\n",
      "\n",
      "          * Politique\n",
      "         \n"
     ]
    }
   ],
   "source": [
    "print(res[:250])"
   ]
  },
  {
   "cell_type": "markdown",
   "metadata": {},
   "source": [
    "**On peut voir qu'Inscriptis ressort beaucoup de contenu puisqu'il intègre les menus**\n",
    "**Nous allons avoir un outil un peu plus perfectionné**"
   ]
  },
  {
   "cell_type": "code",
   "execution_count": 18,
   "metadata": {},
   "outputs": [],
   "source": [
    "#TODO: install boilerpy\n",
    "from boilerpy3 import extractors\n",
    "res_boilerpy3 = {}\n",
    "for chemin in liste_fichiers:\n",
    "    f = open(chemin)\n",
    "    contenu = f.read()\n",
    "    f.close()\n",
    "    BP_extractor = extractors.DefaultExtractor()\n",
    "    res = BP_extractor.get_content(contenu)\n",
    "    res_boilerpy3[chemin] = res"
   ]
  },
  {
   "cell_type": "code",
   "execution_count": 35,
   "metadata": {},
   "outputs": [
    {
     "name": "stdout",
     "output_type": "stream",
     "text": [
      "Réservé aux abonnés\n",
      "Comment les microbes ont participé à la chute de l’Empire romain\n",
      "DÉCRYPTAGE - Dans un livre rédigé bien avant le Covid, l’historien américain Kyle Harper, spécialiste de l’Antiquité tardive, estime que la nature a eu sa part de re\n"
     ]
    }
   ],
   "source": [
    "print(res[:250])"
   ]
  },
  {
   "cell_type": "markdown",
   "metadata": {},
   "source": [
    "**On va essaye de visualiser la différence entre les deux fichiers pour mieux comprendre tout ça**"
   ]
  },
  {
   "cell_type": "code",
   "execution_count": 23,
   "metadata": {},
   "outputs": [],
   "source": [
    "##TODO: faire scipy spatial\n",
    "def distance_jaccard_simple(l1, l2):\n",
    "    voc1 = set(l1.split())\n",
    "    voc2 = set(l2.split())\n",
    "    inter = voc1.intersection(voc2)\n",
    "    union = voc1.union(voc2)\n",
    "    if len(union)!=0:\n",
    "        jaccard = len(inter)/len(union)\n",
    "    else:\n",
    "        jaccard = 1\n",
    "    return jaccard"
   ]
  },
  {
   "cell_type": "code",
   "execution_count": 36,
   "metadata": {},
   "outputs": [
    {
     "name": "stdout",
     "output_type": "stream",
     "text": [
      "[0.0, 0.0, 0.0, 0.0, 0.0, 0.0, 0.0, 0.012658227848101266, 0.0, 0.0, 0.0, 0.0, 0.0, 0.0, 0.0, 0.0, 0.0, 0.0, 0.0, 0.0, 0.0, 0.0, 0.0, 0.0, 0.0, 0.0, 0.0]\n",
      "[0.0, 0.0, 0.0, 0.0, 0.0, 0.0, 0.0, 0.0, 0.0, 0.0, 0.0, 0.0, 0.0, 0.0, 0.0, 0.0, 0.0, 0.0, 0.0, 0.0, 0.0, 0.0, 0.0, 0.0, 0.0, 0.0, 0.0]\n",
      "[0.0, 0.0, 0.02564102564102564, 0.0, 0.0, 0.0, 0.0, 0.012195121951219513, 0.0, 0.0, 0.0, 0.0, 0.3333333333333333, 0.1111111111111111, 0.0, 0.0, 0.1111111111111111, 0.0, 0.02702702702702703, 0.0, 0.0, 0.0, 0.1111111111111111, 0.043478260869565216, 0.0, 0.0, 0.0]\n",
      "[0.0, 0.0, 0.0, 0.0, 0.0, 0.0, 0.0, 0.0, 0.0, 0.0, 0.0, 0.0, 0.0, 0.0, 0.0, 0.0, 0.0, 0.0, 0.0, 0.0, 0.0, 0.0, 0.0, 0.0, 0.0, 0.0, 0.0]\n",
      "[0.0, 0.0, 0.0, 0.0, 0.0, 0.0, 0.0, 0.012345679012345678, 0.0, 0.01639344262295082, 0.0, 0.0, 0.0, 0.0, 0.0, 0.0, 0.0, 0.0, 0.0, 0.0, 0.0, 0.0, 0.0, 0.045454545454545456, 0.0, 0.0, 0.0]\n"
     ]
    }
   ],
   "source": [
    "## On va comparer fichier les deux sorties res_inscriptis et res_boilerpy3\n",
    "import re\n",
    "matrixes = {}\n",
    "\n",
    "for name in liste_fichiers:\n",
    "    lignes1 = re.split(\"\\n\", res_inscriptis[name])\n",
    "    lignes2 = re.split(\"\\n\", res_boilerpy3[name])\n",
    "    matrix = [ [1]*len(lignes2) for i in range(len(lignes1))]\n",
    "    for i in range(len(lignes1)):\n",
    "        for j in range(len(lignes2)):\n",
    "            jaccard = distance_jaccard_simple(lignes1[i], lignes2[j])\n",
    "            matrix[i][j] = jaccard\n",
    "    matrixes[name] = matrix\n",
    "\n",
    "# on affiche les 5 premières lignes d'une matrice\n",
    "for ligne in matrix[:5]:\n",
    "    print(ligne)"
   ]
  },
  {
   "cell_type": "code",
   "execution_count": 27,
   "metadata": {},
   "outputs": [
    {
     "name": "stdout",
     "output_type": "stream",
     "text": [
      "      0    1         2    3    4    5    6         7    8         9   ...  \\\n",
      "0    0.0  0.0  0.000000  0.0  0.0  0.0  0.0  0.012658  0.0  0.000000  ...   \n",
      "1    0.0  0.0  0.000000  0.0  0.0  0.0  0.0  0.000000  0.0  0.000000  ...   \n",
      "2    0.0  0.0  0.025641  0.0  0.0  0.0  0.0  0.012195  0.0  0.000000  ...   \n",
      "3    0.0  0.0  0.000000  0.0  0.0  0.0  0.0  0.000000  0.0  0.000000  ...   \n",
      "4    0.0  0.0  0.000000  0.0  0.0  0.0  0.0  0.012346  0.0  0.016393  ...   \n",
      "..   ...  ...       ...  ...  ...  ...  ...       ...  ...       ...  ...   \n",
      "367  0.0  0.0  0.000000  0.0  0.0  0.0  0.0  0.000000  0.0  0.000000  ...   \n",
      "368  0.0  0.0  0.000000  0.0  0.0  0.0  0.0  0.000000  0.0  0.000000  ...   \n",
      "369  0.0  0.0  0.000000  0.0  0.0  0.0  0.0  0.000000  0.0  0.000000  ...   \n",
      "370  0.0  0.0  0.000000  0.0  0.0  0.0  0.0  0.000000  0.0  0.000000  ...   \n",
      "371  0.0  0.0  0.000000  0.0  0.0  0.0  0.0  0.000000  0.0  0.000000  ...   \n",
      "\n",
      "      17        18   19   20   21        22        23   24   25   26  \n",
      "0    0.0  0.000000  0.0  0.0  0.0  0.000000  0.000000  0.0  0.0  0.0  \n",
      "1    0.0  0.000000  0.0  0.0  0.0  0.000000  0.000000  0.0  0.0  0.0  \n",
      "2    0.0  0.027027  0.0  0.0  0.0  0.111111  0.043478  0.0  0.0  0.0  \n",
      "3    0.0  0.000000  0.0  0.0  0.0  0.000000  0.000000  0.0  0.0  0.0  \n",
      "4    0.0  0.000000  0.0  0.0  0.0  0.000000  0.045455  0.0  0.0  0.0  \n",
      "..   ...       ...  ...  ...  ...       ...       ...  ...  ...  ...  \n",
      "367  0.0  0.000000  0.0  0.0  0.0  0.000000  0.000000  0.0  0.0  0.0  \n",
      "368  0.0  0.000000  0.0  0.0  0.0  0.000000  0.000000  0.0  0.0  0.0  \n",
      "369  0.0  0.000000  0.0  0.0  0.0  0.000000  0.000000  0.0  0.0  0.0  \n",
      "370  0.0  0.000000  0.0  0.0  0.0  0.000000  0.000000  0.0  0.0  0.0  \n",
      "371  0.0  0.000000  0.0  0.0  0.0  0.000000  0.000000  0.0  0.0  0.0  \n",
      "\n",
      "[372 rows x 27 columns]\n"
     ]
    }
   ],
   "source": [
    "##Constat: beaucoup de zéros\n",
    "import pandas as pd\n",
    "df = pd.DataFrame(matrix)\n",
    "print(df)#bien lisible"
   ]
  },
  {
   "cell_type": "code",
   "execution_count": 37,
   "metadata": {},
   "outputs": [
    {
     "data": {
      "text/plain": [
       "Text(33.0, 0.5, 'inscriptis')"
      ]
     },
     "execution_count": 37,
     "metadata": {},
     "output_type": "execute_result"
    },
    {
     "data": {
      "image/png": "[encoded data removed]",
      "text/plain": [
       "<Figure size 432x288 with 2 Axes>"
      ]
     },
     "metadata": {
      "needs_background": "light"
     },
     "output_type": "display_data"
    }
   ],
   "source": [
    "import numpy as np\n",
    "import seaborn as sns\n",
    "ax = sns.heatmap(matrix)\n",
    "ax.set_title(f\"Alignement du fichier ''{name}''\")\n",
    "ax.set_xlabel(\"boilerpy3\")\n",
    "ax.set_ylabel(\"inscriptis\")\n"
   ]
  },
  {
   "cell_type": "code",
   "execution_count": 38,
   "metadata": {},
   "outputs": [],
   "source": [
    "### arriver plus vite ici\n",
    "## explicter le schéma\n",
    "##intégrer santize\n",
    "## montrer les X résultats du dossier \"fichiers\"\n",
    "##montrer une autre source où l'alignement\n"
   ]
  },
  {
   "cell_type": "code",
   "execution_count": null,
   "metadata": {},
   "outputs": [],
   "source": [
    "##créer uen focntion compare\n",
    "##comp avec trafilatura\n",
    "##comparaison sur lignes courtes et longues\n",
    "##réf le deux Barbaresi/Lejeune WAC (\"éval) article d'hypotheses"
   ]
  }
 ],
 "metadata": {
  "kernelspec": {
   "display_name": "Python 3",
   "language": "python",
   "name": "python3"
  },
  "language_info": {
   "codemirror_mode": {
    "name": "ipython",
    "version": 3
   },
   "file_extension": ".py",
   "mimetype": "text/x-python",
   "name": "python",
   "nbconvert_exporter": "python",
   "pygments_lexer": "ipython3",
   "version": "3.7.5"
  }
 },
 "nbformat": 4,
 "nbformat_minor": 2
}
